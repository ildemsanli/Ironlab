{
 "cells": [
  {
   "cell_type": "code",
   "execution_count": 204,
   "id": "4a3619dc",
   "metadata": {},
   "outputs": [],
   "source": [
    "import yfinance as yf\n",
    "import pandas as pd\n",
    "import numpy as np\n",
    "from statsmodels.tsa.seasonal import seasonal_decompose\n",
    "import matplotlib.pyplot as plt\n",
    "from statsmodels.tsa.stattools import adfuller\n",
    "from statsmodels.graphics.tsaplots import plot_acf"
   ]
  },
  {
   "cell_type": "code",
   "execution_count": 1,
   "id": "9cb8a439",
   "metadata": {},
   "outputs": [
    {
     "name": "stdout",
     "output_type": "stream",
     "text": [
      "[*********************100%***********************]  1 of 1 completed\n"
     ]
    },
    {
     "data": {
      "text/html": [
       "<div>\n",
       "<style scoped>\n",
       "    .dataframe tbody tr th:only-of-type {\n",
       "        vertical-align: middle;\n",
       "    }\n",
       "\n",
       "    .dataframe tbody tr th {\n",
       "        vertical-align: top;\n",
       "    }\n",
       "\n",
       "    .dataframe thead th {\n",
       "        text-align: right;\n",
       "    }\n",
       "</style>\n",
       "<table border=\"1\" class=\"dataframe\">\n",
       "  <thead>\n",
       "    <tr style=\"text-align: right;\">\n",
       "      <th></th>\n",
       "      <th>Close</th>\n",
       "    </tr>\n",
       "    <tr>\n",
       "      <th>Date</th>\n",
       "      <th></th>\n",
       "    </tr>\n",
       "  </thead>\n",
       "  <tbody>\n",
       "    <tr>\n",
       "      <th>2014-09-17</th>\n",
       "      <td>457.33</td>\n",
       "    </tr>\n",
       "    <tr>\n",
       "      <th>2014-09-18</th>\n",
       "      <td>424.44</td>\n",
       "    </tr>\n",
       "    <tr>\n",
       "      <th>2014-09-19</th>\n",
       "      <td>394.80</td>\n",
       "    </tr>\n",
       "    <tr>\n",
       "      <th>2014-09-20</th>\n",
       "      <td>408.90</td>\n",
       "    </tr>\n",
       "    <tr>\n",
       "      <th>2014-09-21</th>\n",
       "      <td>398.82</td>\n",
       "    </tr>\n",
       "  </tbody>\n",
       "</table>\n",
       "</div>"
      ],
      "text/plain": [
       "             Close\n",
       "Date              \n",
       "2014-09-17  457.33\n",
       "2014-09-18  424.44\n",
       "2014-09-19  394.80\n",
       "2014-09-20  408.90\n",
       "2014-09-21  398.82"
      ]
     },
     "execution_count": 1,
     "metadata": {},
     "output_type": "execute_result"
    }
   ],
   "source": [
    "data = yf.download(\"BTC-USD\")[['Close']]\n",
    "data.index = pd.to_datetime(data.index)\n",
    "data.head().round(2)"
   ]
  },
  {
   "cell_type": "code",
   "execution_count": 225,
   "id": "e03e874a",
   "metadata": {},
   "outputs": [
    {
     "data": {
      "text/plain": [
       "(2751, 1)"
      ]
     },
     "execution_count": 225,
     "metadata": {},
     "output_type": "execute_result"
    }
   ],
   "source": [
    "data.shape"
   ]
  },
  {
   "cell_type": "code",
   "execution_count": 271,
   "id": "58bb9882",
   "metadata": {},
   "outputs": [
    {
     "data": {
      "text/html": [
       "<div>\n",
       "<style scoped>\n",
       "    .dataframe tbody tr th:only-of-type {\n",
       "        vertical-align: middle;\n",
       "    }\n",
       "\n",
       "    .dataframe tbody tr th {\n",
       "        vertical-align: top;\n",
       "    }\n",
       "\n",
       "    .dataframe thead th {\n",
       "        text-align: right;\n",
       "    }\n",
       "</style>\n",
       "<table border=\"1\" class=\"dataframe\">\n",
       "  <thead>\n",
       "    <tr style=\"text-align: right;\">\n",
       "      <th></th>\n",
       "      <th>Close</th>\n",
       "    </tr>\n",
       "    <tr>\n",
       "      <th>Date</th>\n",
       "      <th></th>\n",
       "    </tr>\n",
       "  </thead>\n",
       "  <tbody>\n",
       "    <tr>\n",
       "      <th>2022-03-25</th>\n",
       "      <td>44348.730469</td>\n",
       "    </tr>\n",
       "    <tr>\n",
       "      <th>2022-03-26</th>\n",
       "      <td>44500.828125</td>\n",
       "    </tr>\n",
       "    <tr>\n",
       "      <th>2022-03-27</th>\n",
       "      <td>46820.492188</td>\n",
       "    </tr>\n",
       "    <tr>\n",
       "      <th>2022-03-28</th>\n",
       "      <td>47128.003906</td>\n",
       "    </tr>\n",
       "    <tr>\n",
       "      <th>2022-03-29</th>\n",
       "      <td>47922.492188</td>\n",
       "    </tr>\n",
       "  </tbody>\n",
       "</table>\n",
       "</div>"
      ],
      "text/plain": [
       "                   Close\n",
       "Date                    \n",
       "2022-03-25  44348.730469\n",
       "2022-03-26  44500.828125\n",
       "2022-03-27  46820.492188\n",
       "2022-03-28  47128.003906\n",
       "2022-03-29  47922.492188"
      ]
     },
     "execution_count": 271,
     "metadata": {},
     "output_type": "execute_result"
    }
   ],
   "source": [
    "data.tail(5)"
   ]
  },
  {
   "cell_type": "code",
   "execution_count": 3,
   "id": "c76f485b",
   "metadata": {},
   "outputs": [
    {
     "data": {
      "image/png": "[encoded data removed]",
      "text/plain": [
       "<Figure size 720x504 with 1 Axes>"
      ]
     },
     "metadata": {
      "needs_background": "light"
     },
     "output_type": "display_data"
    }
   ],
   "source": [
    "plt.figure(figsize=(10, 7))\n",
    "plt.plot(data['Close'])\n",
    "plt.title('BTC', fontsize=14)\n",
    "plt.xlabel('Year', fontsize=12)\n",
    "plt.ylabel('Price', fontsize=12)\n",
    "plt.show()"
   ]
  },
  {
   "cell_type": "code",
   "execution_count": 4,
   "id": "44d35c27",
   "metadata": {},
   "outputs": [
    {
     "name": "stdout",
     "output_type": "stream",
     "text": [
      "ADF Test Statistic: -0.80\n",
      "5% Critical Value: -2.86\n",
      "p-value: 0.82\n"
     ]
    }
   ],
   "source": [
    "result = adfuller(data.Close)\n",
    "print('ADF Test Statistic: %.2f' % result[0])\n",
    "print('5%% Critical Value: %.2f' % result[4]['5%'])\n",
    "print('p-value: %.2f' % result[1])"
   ]
  },
  {
   "cell_type": "code",
   "execution_count": null,
   "id": "ca7d49f7",
   "metadata": {},
   "outputs": [],
   "source": [
    "# Time series is not stationary as seen in the plot and with p>0.05 of ADF test."
   ]
  },
  {
   "cell_type": "code",
   "execution_count": 9,
   "id": "0331c404",
   "metadata": {},
   "outputs": [
    {
     "data": {
      "image/png": "[encoded data removed]",
      "text/plain": [
       "<Figure size 432x288 with 1 Axes>"
      ]
     },
     "metadata": {
      "needs_background": "light"
     },
     "output_type": "display_data"
    }
   ],
   "source": [
    "plot_acf(data.Close)\n",
    "plt.show()"
   ]
  },
  {
   "cell_type": "code",
   "execution_count": 208,
   "id": "08de75c2",
   "metadata": {},
   "outputs": [
    {
     "data": {
      "image/png": "[encoded data removed]",
      "text/plain": [
       "<Figure size 720x720 with 4 Axes>"
      ]
     },
     "metadata": {
      "needs_background": "light"
     },
     "output_type": "display_data"
    }
   ],
   "source": [
    "decompose = seasonal_decompose(data['Close'], model='additive', extrapolate_trend='freq')\n",
    "plt.rcParams.update({'figure.figsize': (10,10)})\n",
    "decompose.plot()\n",
    "plt.show()"
   ]
  },
  {
   "cell_type": "code",
   "execution_count": null,
   "id": "1592d872",
   "metadata": {},
   "outputs": [],
   "source": [
    "# The time series show significant autocorrelation."
   ]
  },
  {
   "cell_type": "code",
   "execution_count": 242,
   "id": "93e3383d",
   "metadata": {},
   "outputs": [],
   "source": [
    "data_diff=pd.DataFrame((np.log(data.Close)).diff().dropna())"
   ]
  },
  {
   "cell_type": "code",
   "execution_count": 211,
   "id": "294fa40f",
   "metadata": {},
   "outputs": [
    {
     "data": {
      "text/html": [
       "<div>\n",
       "<style scoped>\n",
       "    .dataframe tbody tr th:only-of-type {\n",
       "        vertical-align: middle;\n",
       "    }\n",
       "\n",
       "    .dataframe tbody tr th {\n",
       "        vertical-align: top;\n",
       "    }\n",
       "\n",
       "    .dataframe thead th {\n",
       "        text-align: right;\n",
       "    }\n",
       "</style>\n",
       "<table border=\"1\" class=\"dataframe\">\n",
       "  <thead>\n",
       "    <tr style=\"text-align: right;\">\n",
       "      <th></th>\n",
       "      <th>Close</th>\n",
       "    </tr>\n",
       "    <tr>\n",
       "      <th>Date</th>\n",
       "      <th></th>\n",
       "    </tr>\n",
       "  </thead>\n",
       "  <tbody>\n",
       "    <tr>\n",
       "      <th>2014-09-18</th>\n",
       "      <td>-0.074643</td>\n",
       "    </tr>\n",
       "    <tr>\n",
       "      <th>2014-09-19</th>\n",
       "      <td>-0.072402</td>\n",
       "    </tr>\n",
       "    <tr>\n",
       "      <th>2014-09-20</th>\n",
       "      <td>0.035111</td>\n",
       "    </tr>\n",
       "    <tr>\n",
       "      <th>2014-09-21</th>\n",
       "      <td>-0.024968</td>\n",
       "    </tr>\n",
       "    <tr>\n",
       "      <th>2014-09-22</th>\n",
       "      <td>0.008317</td>\n",
       "    </tr>\n",
       "    <tr>\n",
       "      <th>...</th>\n",
       "      <td>...</td>\n",
       "    </tr>\n",
       "    <tr>\n",
       "      <th>2022-03-25</th>\n",
       "      <td>0.008783</td>\n",
       "    </tr>\n",
       "    <tr>\n",
       "      <th>2022-03-26</th>\n",
       "      <td>0.003424</td>\n",
       "    </tr>\n",
       "    <tr>\n",
       "      <th>2022-03-27</th>\n",
       "      <td>0.050813</td>\n",
       "    </tr>\n",
       "    <tr>\n",
       "      <th>2022-03-28</th>\n",
       "      <td>0.006546</td>\n",
       "    </tr>\n",
       "    <tr>\n",
       "      <th>2022-03-29</th>\n",
       "      <td>0.016718</td>\n",
       "    </tr>\n",
       "  </tbody>\n",
       "</table>\n",
       "<p>2750 rows × 1 columns</p>\n",
       "</div>"
      ],
      "text/plain": [
       "               Close\n",
       "Date                \n",
       "2014-09-18 -0.074643\n",
       "2014-09-19 -0.072402\n",
       "2014-09-20  0.035111\n",
       "2014-09-21 -0.024968\n",
       "2014-09-22  0.008317\n",
       "...              ...\n",
       "2022-03-25  0.008783\n",
       "2022-03-26  0.003424\n",
       "2022-03-27  0.050813\n",
       "2022-03-28  0.006546\n",
       "2022-03-29  0.016718\n",
       "\n",
       "[2750 rows x 1 columns]"
      ]
     },
     "execution_count": 211,
     "metadata": {},
     "output_type": "execute_result"
    }
   ],
   "source": [
    "data_diff"
   ]
  },
  {
   "cell_type": "code",
   "execution_count": 212,
   "id": "83137d33",
   "metadata": {},
   "outputs": [
    {
     "data": {
      "image/png": "[encoded data removed]",
      "text/plain": [
       "<Figure size 720x504 with 1 Axes>"
      ]
     },
     "metadata": {
      "needs_background": "light"
     },
     "output_type": "display_data"
    }
   ],
   "source": [
    "plt.figure(figsize=(10, 7))\n",
    "plt.plot(data_diff)\n",
    "plt.show()"
   ]
  },
  {
   "cell_type": "code",
   "execution_count": 243,
   "id": "ff2de494",
   "metadata": {},
   "outputs": [
    {
     "data": {
      "text/plain": [
       "(-15.791367718592014,\n",
       " 1.1011876509720085e-28,\n",
       " 9,\n",
       " 2740,\n",
       " {'1%': -3.43273884556851,\n",
       "  '5%': -2.8625954199228967,\n",
       "  '10%': -2.567331834008205},\n",
       " -9912.418735454783)"
      ]
     },
     "execution_count": 243,
     "metadata": {},
     "output_type": "execute_result"
    }
   ],
   "source": [
    "adfuller(data_diff, autolag='AIC')\n"
   ]
  },
  {
   "cell_type": "code",
   "execution_count": 214,
   "id": "350da141",
   "metadata": {},
   "outputs": [
    {
     "data": {
      "image/png": "[encoded data removed]",
      "text/plain": [
       "<Figure size 720x720 with 4 Axes>"
      ]
     },
     "metadata": {
      "needs_background": "light"
     },
     "output_type": "display_data"
    }
   ],
   "source": [
    "decompose_diff =seasonal_decompose(data_diff['Close'], model='additive', extrapolate_trend='freq')\n",
    "plt.rcParams.update({'figure.figsize': (10,10)})\n",
    "decompose_diff.plot()\n",
    "plt.show()\n"
   ]
  },
  {
   "cell_type": "code",
   "execution_count": 215,
   "id": "df29936a",
   "metadata": {},
   "outputs": [
    {
     "name": "stdout",
     "output_type": "stream",
     "text": [
      "Performing stepwise search to minimize aic\n",
      " ARIMA(1,1,1)(0,0,0)[0] intercept   : AIC=inf, Time=1.89 sec\n",
      " ARIMA(0,1,0)(0,0,0)[0] intercept   : AIC=-8052.804, Time=0.35 sec\n",
      " ARIMA(1,1,0)(0,0,0)[0] intercept   : AIC=-8881.683, Time=0.42 sec\n",
      " ARIMA(0,1,1)(0,0,0)[0] intercept   : AIC=inf, Time=1.15 sec\n",
      " ARIMA(0,1,0)(0,0,0)[0]             : AIC=-8054.803, Time=0.15 sec\n",
      " ARIMA(2,1,0)(0,0,0)[0] intercept   : AIC=-9227.451, Time=0.31 sec\n",
      " ARIMA(3,1,0)(0,0,0)[0] intercept   : AIC=-9412.454, Time=0.36 sec\n",
      " ARIMA(4,1,0)(0,0,0)[0] intercept   : AIC=-9522.383, Time=0.36 sec\n",
      " ARIMA(5,1,0)(0,0,0)[0] intercept   : AIC=-9637.803, Time=0.80 sec\n",
      " ARIMA(5,1,1)(0,0,0)[0] intercept   : AIC=-9908.841, Time=3.12 sec\n",
      " ARIMA(4,1,1)(0,0,0)[0] intercept   : AIC=-9936.389, Time=4.21 sec\n",
      " ARIMA(3,1,1)(0,0,0)[0] intercept   : AIC=-9983.926, Time=2.45 sec\n",
      " ARIMA(2,1,1)(0,0,0)[0] intercept   : AIC=inf, Time=3.56 sec\n",
      " ARIMA(3,1,2)(0,0,0)[0] intercept   : AIC=inf, Time=3.27 sec\n",
      " ARIMA(2,1,2)(0,0,0)[0] intercept   : AIC=inf, Time=3.94 sec\n",
      " ARIMA(4,1,2)(0,0,0)[0] intercept   : AIC=-9945.788, Time=2.42 sec\n",
      " ARIMA(3,1,1)(0,0,0)[0]             : AIC=inf, Time=1.58 sec\n",
      "\n",
      "Best model:  ARIMA(3,1,1)(0,0,0)[0] intercept\n",
      "Total fit time: 30.358 seconds\n",
      "-9983.925917892235\n"
     ]
    }
   ],
   "source": [
    "from pmdarima import auto_arima\n",
    "stepwise_model = auto_arima(data_diff, start_p=1, start_q=1,\n",
    "                           d=1, trace=True,\n",
    "                           error_action='ignore',  \n",
    "                           suppress_warnings=True, seasonal=False, \n",
    "                           stepwise=True)\n",
    "print(stepwise_model.aic())"
   ]
  },
  {
   "cell_type": "code",
   "execution_count": 91,
   "id": "bdce7990",
   "metadata": {},
   "outputs": [],
   "source": [
    "from statsmodels.tsa.arima_model import ARIMA"
   ]
  },
  {
   "cell_type": "code",
   "execution_count": null,
   "id": "8fbe2882",
   "metadata": {},
   "outputs": [],
   "source": [
    "# First to see if my forecast fits the test, I'm splitting the data to train and test and running the tests on these."
   ]
  },
  {
   "cell_type": "code",
   "execution_count": 216,
   "id": "d22f3a48",
   "metadata": {},
   "outputs": [],
   "source": [
    "split = len(data_diff) - 10\n",
    "train, test = data_diff[0:split], data_diff[split:]"
   ]
  },
  {
   "cell_type": "code",
   "execution_count": 217,
   "id": "df076f9e",
   "metadata": {},
   "outputs": [
    {
     "name": "stderr",
     "output_type": "stream",
     "text": [
      "/opt/anaconda3/lib/python3.9/site-packages/statsmodels/tsa/arima_model.py:472: FutureWarning: \n",
      "statsmodels.tsa.arima_model.ARMA and statsmodels.tsa.arima_model.ARIMA have\n",
      "been deprecated in favor of statsmodels.tsa.arima.model.ARIMA (note the .\n",
      "between arima and model) and\n",
      "statsmodels.tsa.SARIMAX. These will be removed after the 0.12 release.\n",
      "\n",
      "statsmodels.tsa.arima.model.ARIMA makes use of the statespace framework and\n",
      "is both well tested and maintained.\n",
      "\n",
      "To silence this warning and continue using ARMA and ARIMA until they are\n",
      "removed, use:\n",
      "\n",
      "import warnings\n",
      "warnings.filterwarnings('ignore', 'statsmodels.tsa.arima_model.ARMA',\n",
      "                        FutureWarning)\n",
      "warnings.filterwarnings('ignore', 'statsmodels.tsa.arima_model.ARIMA',\n",
      "                        FutureWarning)\n",
      "\n",
      "  warnings.warn(ARIMA_DEPRECATION_WARN, FutureWarning)\n",
      "/opt/anaconda3/lib/python3.9/site-packages/statsmodels/tsa/base/tsa_model.py:524: ValueWarning: No frequency information was provided, so inferred frequency D will be used.\n",
      "  warnings.warn('No frequency information was'\n",
      "/opt/anaconda3/lib/python3.9/site-packages/statsmodels/tsa/base/tsa_model.py:524: ValueWarning: No frequency information was provided, so inferred frequency D will be used.\n",
      "  warnings.warn('No frequency information was'\n"
     ]
    },
    {
     "name": "stdout",
     "output_type": "stream",
     "text": [
      "RUNNING THE L-BFGS-B CODE\n",
      "\n",
      "           * * *\n",
      "\n",
      "Machine precision = 2.220D-16\n",
      " N =            5     M =           12\n",
      "\n",
      "At X0         0 variables are exactly at the bounds\n",
      "\n",
      "At iterate    0    f= -1.81786D+00    |proj g|=  1.45142D+01\n"
     ]
    },
    {
     "name": "stderr",
     "output_type": "stream",
     "text": [
      " This problem is unconstrained.\n"
     ]
    },
    {
     "name": "stdout",
     "output_type": "stream",
     "text": [
      "\n",
      "At iterate    5    f= -1.81788D+00    |proj g|=  4.68566D-01\n",
      "\n",
      "At iterate   10    f= -1.81789D+00    |proj g|=  7.23037D+00\n",
      "\n",
      "At iterate   15    f= -1.81810D+00    |proj g|=  1.30365D+01\n"
     ]
    },
    {
     "name": "stderr",
     "output_type": "stream",
     "text": [
      "\n",
      " Bad direction in the line search;\n",
      "   refresh the lbfgs memory and restart the iteration.\n",
      "\n",
      " Warning:  more than 10 function and gradient\n",
      "   evaluations in the last line search.  Termination\n",
      "   may possibly be caused by a bad search direction.\n"
     ]
    },
    {
     "name": "stdout",
     "output_type": "stream",
     "text": [
      "\n",
      "At iterate   20    f= -1.81812D+00    |proj g|=  2.25955D-03\n",
      "\n",
      "           * * *\n",
      "\n",
      "Tit   = total number of iterations\n",
      "Tnf   = total number of function evaluations\n",
      "Tnint = total number of segments explored during Cauchy searches\n",
      "Skip  = number of BFGS updates skipped\n",
      "Nact  = number of active bounds at final generalized Cauchy point\n",
      "Projg = norm of the final projected gradient\n",
      "F     = final function value\n",
      "\n",
      "           * * *\n",
      "\n",
      "   N    Tit     Tnf  Tnint  Skip  Nact     Projg        F\n",
      "    5     20     62      2     0     0   2.260D-03  -1.818D+00\n",
      "  F =  -1.8181164400466603     \n",
      "\n",
      "CONVERGENCE: REL_REDUCTION_OF_F_<=_FACTR*EPSMCH             \n",
      "                             ARIMA Model Results                              \n",
      "==============================================================================\n",
      "Dep. Variable:                D.Close   No. Observations:                 2739\n",
      "Model:                 ARIMA(3, 1, 1)   Log Likelihood                4979.821\n",
      "Method:                       css-mle   S.D. of innovations              0.039\n",
      "Date:                Wed, 30 Mar 2022   AIC                          -9947.642\n",
      "Time:                        17:42:00   BIC                          -9912.150\n",
      "Sample:                    09-19-2014   HQIC                         -9934.816\n",
      "                         - 03-19-2022                                         \n",
      "=================================================================================\n",
      "                    coef    std err          z      P>|z|      [0.025      0.975]\n",
      "---------------------------------------------------------------------------------\n",
      "const          1.293e-06   8.65e-06      0.149      0.881   -1.57e-05    1.82e-05\n",
      "ar.L1.D.Close    -0.0275      0.020     -1.401      0.161      -0.066       0.011\n",
      "ar.L2.D.Close    -0.0069      0.020     -0.353      0.724      -0.045       0.032\n",
      "ar.L3.D.Close     0.0037      0.020      0.188      0.851      -0.035       0.042\n",
      "ma.L1.D.Close    -0.9885      0.007   -148.691      0.000      -1.002      -0.975\n",
      "                                    Roots                                    \n",
      "=============================================================================\n",
      "                  Real          Imaginary           Modulus         Frequency\n",
      "-----------------------------------------------------------------------------\n",
      "AR.1           -2.8514           -5.2604j            5.9835           -0.3291\n",
      "AR.2           -2.8514           +5.2604j            5.9835            0.3291\n",
      "AR.3            7.5898           -0.0000j            7.5898           -0.0000\n",
      "MA.1            1.0116           +0.0000j            1.0116            0.0000\n",
      "-----------------------------------------------------------------------------\n"
     ]
    }
   ],
   "source": [
    "model= ARIMA(train, order=(3, 1, 1)).fit()\n",
    "print(model.summary())"
   ]
  },
  {
   "cell_type": "code",
   "execution_count": 218,
   "id": "9dc8768c",
   "metadata": {},
   "outputs": [],
   "source": [
    "pred=model.predict(len(train), len(data_diff)-1)"
   ]
  },
  {
   "cell_type": "code",
   "execution_count": 219,
   "id": "2d7a166b",
   "metadata": {},
   "outputs": [
    {
     "data": {
      "text/plain": [
       "2022-03-20   -0.010057\n",
       "2022-03-21    0.000449\n",
       "2022-03-22    0.000017\n",
       "2022-03-23   -0.000039\n",
       "2022-03-24    0.000004\n",
       "2022-03-25    0.000002\n",
       "2022-03-26    0.000001\n",
       "2022-03-27    0.000001\n",
       "2022-03-28    0.000001\n",
       "2022-03-29    0.000001\n",
       "Freq: D, dtype: float64"
      ]
     },
     "execution_count": 219,
     "metadata": {},
     "output_type": "execute_result"
    }
   ],
   "source": [
    "pred"
   ]
  },
  {
   "cell_type": "code",
   "execution_count": 130,
   "id": "6a8749bc",
   "metadata": {},
   "outputs": [],
   "source": [
    "from statsmodels.tools.eval_measures import rmse"
   ]
  },
  {
   "cell_type": "code",
   "execution_count": 220,
   "id": "b55b7075",
   "metadata": {},
   "outputs": [
    {
     "data": {
      "text/plain": [
       "array([0.02966369, 0.02261223, 0.02284985, 0.02288142, 0.02285731,\n",
       "       0.02285864, 0.02285889, 0.02285878, 0.02285879, 0.02285879])"
      ]
     },
     "execution_count": 220,
     "metadata": {},
     "output_type": "execute_result"
    }
   ],
   "source": [
    "rmse(pred, test)"
   ]
  },
  {
   "cell_type": "code",
   "execution_count": null,
   "id": "2090712c",
   "metadata": {},
   "outputs": [],
   "source": [
    "# RMSE values are small so the model looks good. Now, let's model it on the entire dataset and predict for the next \n",
    "# 5 periods."
   ]
  },
  {
   "cell_type": "code",
   "execution_count": 221,
   "id": "a97fca28",
   "metadata": {},
   "outputs": [
    {
     "name": "stderr",
     "output_type": "stream",
     "text": [
      "/opt/anaconda3/lib/python3.9/site-packages/statsmodels/tsa/arima_model.py:472: FutureWarning: \n",
      "statsmodels.tsa.arima_model.ARMA and statsmodels.tsa.arima_model.ARIMA have\n",
      "been deprecated in favor of statsmodels.tsa.arima.model.ARIMA (note the .\n",
      "between arima and model) and\n",
      "statsmodels.tsa.SARIMAX. These will be removed after the 0.12 release.\n",
      "\n",
      "statsmodels.tsa.arima.model.ARIMA makes use of the statespace framework and\n",
      "is both well tested and maintained.\n",
      "\n",
      "To silence this warning and continue using ARMA and ARIMA until they are\n",
      "removed, use:\n",
      "\n",
      "import warnings\n",
      "warnings.filterwarnings('ignore', 'statsmodels.tsa.arima_model.ARMA',\n",
      "                        FutureWarning)\n",
      "warnings.filterwarnings('ignore', 'statsmodels.tsa.arima_model.ARIMA',\n",
      "                        FutureWarning)\n",
      "\n",
      "  warnings.warn(ARIMA_DEPRECATION_WARN, FutureWarning)\n",
      "/opt/anaconda3/lib/python3.9/site-packages/statsmodels/tsa/base/tsa_model.py:524: ValueWarning: No frequency information was provided, so inferred frequency D will be used.\n",
      "  warnings.warn('No frequency information was'\n",
      "/opt/anaconda3/lib/python3.9/site-packages/statsmodels/tsa/base/tsa_model.py:524: ValueWarning: No frequency information was provided, so inferred frequency D will be used.\n",
      "  warnings.warn('No frequency information was'\n",
      " This problem is unconstrained.\n"
     ]
    },
    {
     "name": "stdout",
     "output_type": "stream",
     "text": [
      "RUNNING THE L-BFGS-B CODE\n",
      "\n",
      "           * * *\n",
      "\n",
      "Machine precision = 2.220D-16\n",
      " N =            5     M =           12\n",
      "\n",
      "At X0         0 variables are exactly at the bounds\n",
      "\n",
      "At iterate    0    f= -1.81907D+00    |proj g|=  1.45252D+01\n",
      "\n",
      "At iterate    5    f= -1.81909D+00    |proj g|=  4.70228D-01\n",
      "\n",
      "At iterate   10    f= -1.81910D+00    |proj g|=  7.26049D+00\n",
      "\n",
      "At iterate   15    f= -1.81931D+00    |proj g|=  1.22752D+01\n"
     ]
    },
    {
     "name": "stderr",
     "output_type": "stream",
     "text": [
      "\n",
      " Bad direction in the line search;\n",
      "   refresh the lbfgs memory and restart the iteration.\n",
      "\n",
      " Warning:  more than 10 function and gradient\n",
      "   evaluations in the last line search.  Termination\n",
      "   may possibly be caused by a bad search direction.\n"
     ]
    },
    {
     "name": "stdout",
     "output_type": "stream",
     "text": [
      "\n",
      "At iterate   20    f= -1.81932D+00    |proj g|=  1.99791D-03\n",
      "\n",
      "           * * *\n",
      "\n",
      "Tit   = total number of iterations\n",
      "Tnf   = total number of function evaluations\n",
      "Tnint = total number of segments explored during Cauchy searches\n",
      "Skip  = number of BFGS updates skipped\n",
      "Nact  = number of active bounds at final generalized Cauchy point\n",
      "Projg = norm of the final projected gradient\n",
      "F     = final function value\n",
      "\n",
      "           * * *\n",
      "\n",
      "   N    Tit     Tnf  Tnint  Skip  Nact     Projg        F\n",
      "    5     20     62      2     0     0   1.998D-03  -1.819D+00\n",
      "  F =  -1.8193246160777055     \n",
      "\n",
      "CONVERGENCE: REL_REDUCTION_OF_F_<=_FACTR*EPSMCH             \n",
      "                             ARIMA Model Results                              \n",
      "==============================================================================\n",
      "Dep. Variable:                D.Close   No. Observations:                 2749\n",
      "Model:                 ARIMA(3, 1, 1)   Log Likelihood                5001.323\n",
      "Method:                       css-mle   S.D. of innovations              0.039\n",
      "Date:                Wed, 30 Mar 2022   AIC                          -9990.647\n",
      "Time:                        17:43:43   BIC                          -9955.133\n",
      "Sample:                    09-19-2014   HQIC                         -9977.816\n",
      "                         - 03-29-2022                                         \n",
      "=================================================================================\n",
      "                    coef    std err          z      P>|z|      [0.025      0.975]\n",
      "---------------------------------------------------------------------------------\n",
      "const          1.856e-06   8.62e-06      0.215      0.830    -1.5e-05    1.88e-05\n",
      "ar.L1.D.Close    -0.0272      0.020     -1.381      0.167      -0.066       0.011\n",
      "ar.L2.D.Close    -0.0067      0.020     -0.338      0.735      -0.045       0.032\n",
      "ar.L3.D.Close     0.0041      0.020      0.209      0.834      -0.034       0.043\n",
      "ma.L1.D.Close    -0.9885      0.007   -142.870      0.000      -1.002      -0.975\n",
      "                                    Roots                                    \n",
      "=============================================================================\n",
      "                  Real          Imaginary           Modulus         Frequency\n",
      "-----------------------------------------------------------------------------\n",
      "AR.1           -2.7971           -5.0916j            5.8093           -0.3300\n",
      "AR.2           -2.7971           +5.0916j            5.8093            0.3300\n",
      "AR.3            7.2147           -0.0000j            7.2147           -0.0000\n",
      "MA.1            1.0116           +0.0000j            1.0116            0.0000\n",
      "-----------------------------------------------------------------------------\n"
     ]
    }
   ],
   "source": [
    "model= ARIMA(data_diff, order=(3, 1, 1)).fit()\n",
    "print(model.summary())"
   ]
  },
  {
   "cell_type": "code",
   "execution_count": 250,
   "id": "41151fca",
   "metadata": {},
   "outputs": [],
   "source": [
    "forecast=model.predict(len(data_diff), len(data_diff)+4)"
   ]
  },
  {
   "cell_type": "code",
   "execution_count": 233,
   "id": "abd66c64",
   "metadata": {},
   "outputs": [
    {
     "data": {
      "text/plain": [
       "array([0.03990236, 0.04288039, 0.03917542, 0.03917689, 0.03918585])"
      ]
     },
     "execution_count": 233,
     "metadata": {},
     "output_type": "execute_result"
    }
   ],
   "source": [
    "rmse(data_diff, forecast)"
   ]
  },
  {
   "cell_type": "code",
   "execution_count": 251,
   "id": "5a50bf13",
   "metadata": {},
   "outputs": [],
   "source": [
    "forecast=pd.DataFrame(forecast)"
   ]
  },
  {
   "cell_type": "code",
   "execution_count": 263,
   "id": "9b8d2c4d",
   "metadata": {},
   "outputs": [
    {
     "data": {
      "text/html": [
       "<div>\n",
       "<style scoped>\n",
       "    .dataframe tbody tr th:only-of-type {\n",
       "        vertical-align: middle;\n",
       "    }\n",
       "\n",
       "    .dataframe tbody tr th {\n",
       "        vertical-align: top;\n",
       "    }\n",
       "\n",
       "    .dataframe thead th {\n",
       "        text-align: right;\n",
       "    }\n",
       "</style>\n",
       "<table border=\"1\" class=\"dataframe\">\n",
       "  <thead>\n",
       "    <tr style=\"text-align: right;\">\n",
       "      <th></th>\n",
       "      <th>Close</th>\n",
       "    </tr>\n",
       "    <tr>\n",
       "      <th>Date</th>\n",
       "      <th></th>\n",
       "    </tr>\n",
       "  </thead>\n",
       "  <tbody>\n",
       "    <tr>\n",
       "      <th>2014-09-17</th>\n",
       "      <td>6.125414</td>\n",
       "    </tr>\n",
       "    <tr>\n",
       "      <th>2014-09-18</th>\n",
       "      <td>6.050771</td>\n",
       "    </tr>\n",
       "    <tr>\n",
       "      <th>2014-09-19</th>\n",
       "      <td>5.978369</td>\n",
       "    </tr>\n",
       "    <tr>\n",
       "      <th>2014-09-20</th>\n",
       "      <td>6.013480</td>\n",
       "    </tr>\n",
       "    <tr>\n",
       "      <th>2014-09-21</th>\n",
       "      <td>5.988513</td>\n",
       "    </tr>\n",
       "    <tr>\n",
       "      <th>...</th>\n",
       "      <td>...</td>\n",
       "    </tr>\n",
       "    <tr>\n",
       "      <th>2022-03-25</th>\n",
       "      <td>10.699839</td>\n",
       "    </tr>\n",
       "    <tr>\n",
       "      <th>2022-03-26</th>\n",
       "      <td>10.703263</td>\n",
       "    </tr>\n",
       "    <tr>\n",
       "      <th>2022-03-27</th>\n",
       "      <td>10.754076</td>\n",
       "    </tr>\n",
       "    <tr>\n",
       "      <th>2022-03-28</th>\n",
       "      <td>10.760623</td>\n",
       "    </tr>\n",
       "    <tr>\n",
       "      <th>2022-03-29</th>\n",
       "      <td>10.777340</td>\n",
       "    </tr>\n",
       "  </tbody>\n",
       "</table>\n",
       "<p>2751 rows × 1 columns</p>\n",
       "</div>"
      ],
      "text/plain": [
       "                Close\n",
       "Date                 \n",
       "2014-09-17   6.125414\n",
       "2014-09-18   6.050771\n",
       "2014-09-19   5.978369\n",
       "2014-09-20   6.013480\n",
       "2014-09-21   5.988513\n",
       "...               ...\n",
       "2022-03-25  10.699839\n",
       "2022-03-26  10.703263\n",
       "2022-03-27  10.754076\n",
       "2022-03-28  10.760623\n",
       "2022-03-29  10.777340\n",
       "\n",
       "[2751 rows x 1 columns]"
      ]
     },
     "execution_count": 263,
     "metadata": {},
     "output_type": "execute_result"
    }
   ],
   "source": [
    "data_log=pd.DataFrame(np.log(data.Close))\n",
    "data_log"
   ]
  },
  {
   "cell_type": "code",
   "execution_count": 252,
   "id": "d4ed1b82",
   "metadata": {},
   "outputs": [
    {
     "data": {
      "text/html": [
       "<div>\n",
       "<style scoped>\n",
       "    .dataframe tbody tr th:only-of-type {\n",
       "        vertical-align: middle;\n",
       "    }\n",
       "\n",
       "    .dataframe tbody tr th {\n",
       "        vertical-align: top;\n",
       "    }\n",
       "\n",
       "    .dataframe thead th {\n",
       "        text-align: right;\n",
       "    }\n",
       "</style>\n",
       "<table border=\"1\" class=\"dataframe\">\n",
       "  <thead>\n",
       "    <tr style=\"text-align: right;\">\n",
       "      <th></th>\n",
       "      <th>0</th>\n",
       "    </tr>\n",
       "  </thead>\n",
       "  <tbody>\n",
       "    <tr>\n",
       "      <th>2022-03-30</th>\n",
       "      <td>-0.015810</td>\n",
       "    </tr>\n",
       "    <tr>\n",
       "      <th>2022-03-31</th>\n",
       "      <td>0.000182</td>\n",
       "    </tr>\n",
       "    <tr>\n",
       "      <th>2022-04-01</th>\n",
       "      <td>0.000144</td>\n",
       "    </tr>\n",
       "    <tr>\n",
       "      <th>2022-04-02</th>\n",
       "      <td>-0.000068</td>\n",
       "    </tr>\n",
       "    <tr>\n",
       "      <th>2022-04-03</th>\n",
       "      <td>0.000004</td>\n",
       "    </tr>\n",
       "  </tbody>\n",
       "</table>\n",
       "</div>"
      ],
      "text/plain": [
       "                   0\n",
       "2022-03-30 -0.015810\n",
       "2022-03-31  0.000182\n",
       "2022-04-01  0.000144\n",
       "2022-04-02 -0.000068\n",
       "2022-04-03  0.000004"
      ]
     },
     "execution_count": 252,
     "metadata": {},
     "output_type": "execute_result"
    }
   ],
   "source": [
    "forecast"
   ]
  },
  {
   "cell_type": "code",
   "execution_count": 254,
   "id": "41a5dcf1",
   "metadata": {},
   "outputs": [
    {
     "data": {
      "text/plain": [
       "Close    10.77734\n",
       "Name: 2022-03-29 00:00:00, dtype: float64"
      ]
     },
     "execution_count": 254,
     "metadata": {},
     "output_type": "execute_result"
    }
   ],
   "source": [
    "data_log.iloc[-1]"
   ]
  },
  {
   "cell_type": "code",
   "execution_count": 255,
   "id": "789d5b8d",
   "metadata": {},
   "outputs": [
    {
     "data": {
      "text/plain": [
       "array([-1.58096589e-02,  1.81779475e-04,  1.43968472e-04, -6.81397240e-05,\n",
       "        3.54996856e-06])"
      ]
     },
     "execution_count": 255,
     "metadata": {},
     "output_type": "execute_result"
    }
   ],
   "source": [
    "add=np.array(forecast[0])\n",
    "add"
   ]
  },
  {
   "cell_type": "code",
   "execution_count": 264,
   "id": "8320b837",
   "metadata": {},
   "outputs": [
    {
     "name": "stdout",
     "output_type": "stream",
     "text": [
      "          Close\n",
      "2750  10.777340\n",
      "2751  10.761531\n",
      "2752  10.761712\n",
      "2753  10.761856\n",
      "2754  10.761788\n"
     ]
    }
   ],
   "source": [
    "for i in add:\n",
    "    new_data=data_log.iloc[-1]+i\n",
    "    data_log=data_log.append(new_data, ignore_index=True)\n",
    "print(data_log.iloc[-6:-])"
   ]
  },
  {
   "cell_type": "code",
   "execution_count": 268,
   "id": "d8383e2e",
   "metadata": {},
   "outputs": [
    {
     "data": {
      "text/html": [
       "<div>\n",
       "<style scoped>\n",
       "    .dataframe tbody tr th:only-of-type {\n",
       "        vertical-align: middle;\n",
       "    }\n",
       "\n",
       "    .dataframe tbody tr th {\n",
       "        vertical-align: top;\n",
       "    }\n",
       "\n",
       "    .dataframe thead th {\n",
       "        text-align: right;\n",
       "    }\n",
       "</style>\n",
       "<table border=\"1\" class=\"dataframe\">\n",
       "  <thead>\n",
       "    <tr style=\"text-align: right;\">\n",
       "      <th></th>\n",
       "      <th>Close</th>\n",
       "    </tr>\n",
       "  </thead>\n",
       "  <tbody>\n",
       "    <tr>\n",
       "      <th>2751</th>\n",
       "      <td>10.761531</td>\n",
       "    </tr>\n",
       "    <tr>\n",
       "      <th>2752</th>\n",
       "      <td>10.761712</td>\n",
       "    </tr>\n",
       "    <tr>\n",
       "      <th>2753</th>\n",
       "      <td>10.761856</td>\n",
       "    </tr>\n",
       "    <tr>\n",
       "      <th>2754</th>\n",
       "      <td>10.761788</td>\n",
       "    </tr>\n",
       "    <tr>\n",
       "      <th>2755</th>\n",
       "      <td>10.761792</td>\n",
       "    </tr>\n",
       "  </tbody>\n",
       "</table>\n",
       "</div>"
      ],
      "text/plain": [
       "          Close\n",
       "2751  10.761531\n",
       "2752  10.761712\n",
       "2753  10.761856\n",
       "2754  10.761788\n",
       "2755  10.761792"
      ]
     },
     "execution_count": 268,
     "metadata": {},
     "output_type": "execute_result"
    }
   ],
   "source": [
    "data_log.tail(5)"
   ]
  },
  {
   "cell_type": "code",
   "execution_count": 269,
   "id": "0c65a9a2",
   "metadata": {},
   "outputs": [],
   "source": [
    "data_pred=np.exp(data_log)\n"
   ]
  },
  {
   "cell_type": "code",
   "execution_count": 272,
   "id": "81f1e3e2",
   "metadata": {},
   "outputs": [
    {
     "data": {
      "text/html": [
       "<div>\n",
       "<style scoped>\n",
       "    .dataframe tbody tr th:only-of-type {\n",
       "        vertical-align: middle;\n",
       "    }\n",
       "\n",
       "    .dataframe tbody tr th {\n",
       "        vertical-align: top;\n",
       "    }\n",
       "\n",
       "    .dataframe thead th {\n",
       "        text-align: right;\n",
       "    }\n",
       "</style>\n",
       "<table border=\"1\" class=\"dataframe\">\n",
       "  <thead>\n",
       "    <tr style=\"text-align: right;\">\n",
       "      <th></th>\n",
       "      <th>Close</th>\n",
       "    </tr>\n",
       "  </thead>\n",
       "  <tbody>\n",
       "    <tr>\n",
       "      <th>2746</th>\n",
       "      <td>44348.730469</td>\n",
       "    </tr>\n",
       "    <tr>\n",
       "      <th>2747</th>\n",
       "      <td>44500.828125</td>\n",
       "    </tr>\n",
       "    <tr>\n",
       "      <th>2748</th>\n",
       "      <td>46820.492188</td>\n",
       "    </tr>\n",
       "    <tr>\n",
       "      <th>2749</th>\n",
       "      <td>47128.003906</td>\n",
       "    </tr>\n",
       "    <tr>\n",
       "      <th>2750</th>\n",
       "      <td>47922.492187</td>\n",
       "    </tr>\n",
       "    <tr>\n",
       "      <th>2751</th>\n",
       "      <td>47170.811498</td>\n",
       "    </tr>\n",
       "    <tr>\n",
       "      <th>2752</th>\n",
       "      <td>47179.386962</td>\n",
       "    </tr>\n",
       "    <tr>\n",
       "      <th>2753</th>\n",
       "      <td>47186.179796</td>\n",
       "    </tr>\n",
       "    <tr>\n",
       "      <th>2754</th>\n",
       "      <td>47182.964652</td>\n",
       "    </tr>\n",
       "    <tr>\n",
       "      <th>2755</th>\n",
       "      <td>47183.132150</td>\n",
       "    </tr>\n",
       "  </tbody>\n",
       "</table>\n",
       "</div>"
      ],
      "text/plain": [
       "             Close\n",
       "2746  44348.730469\n",
       "2747  44500.828125\n",
       "2748  46820.492188\n",
       "2749  47128.003906\n",
       "2750  47922.492187\n",
       "2751  47170.811498\n",
       "2752  47179.386962\n",
       "2753  47186.179796\n",
       "2754  47182.964652\n",
       "2755  47183.132150"
      ]
     },
     "execution_count": 272,
     "metadata": {},
     "output_type": "execute_result"
    }
   ],
   "source": [
    "data_pred.tail(10)"
   ]
  },
  {
   "cell_type": "code",
   "execution_count": null,
   "id": "3d68e1af",
   "metadata": {},
   "outputs": [],
   "source": [
    "# I don't recommend to buy BTC because the forecast for the next 5 days looks like it is dropping."
   ]
  }
 ],
 "metadata": {
  "kernelspec": {
   "display_name": "Python 3 (ipykernel)",
   "language": "python",
   "name": "python3"
  },
  "language_info": {
   "codemirror_mode": {
    "name": "ipython",
    "version": 3
   },
   "file_extension": ".py",
   "mimetype": "text/x-python",
   "name": "python",
   "nbconvert_exporter": "python",
   "pygments_lexer": "ipython3",
   "version": "3.9.7"
  }
 },
 "nbformat": 4,
 "nbformat_minor": 5
}
