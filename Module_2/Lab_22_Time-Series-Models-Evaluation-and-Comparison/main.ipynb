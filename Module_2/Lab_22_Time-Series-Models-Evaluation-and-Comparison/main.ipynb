{
 "cells": [
  {
   "cell_type": "code",
   "execution_count": 3,
   "id": "4a3619dc",
   "metadata": {},
   "outputs": [],
   "source": [
    "import yfinance as yf\n",
    "import pandas as pd\n",
    "import numpy as np\n",
    "from statsmodels.tsa.seasonal import seasonal_decompose\n",
    "import matplotlib.pyplot as plt\n",
    "from statsmodels.tsa.stattools import adfuller\n",
    "from statsmodels.graphics.tsaplots import plot_acf\n",
    "import warnings \n",
    "warnings.filterwarnings(\"ignore\")"
   ]
  },
  {
   "cell_type": "code",
   "execution_count": 6,
   "id": "9cb8a439",
   "metadata": {},
   "outputs": [
    {
     "name": "stdout",
     "output_type": "stream",
     "text": [
      "[*********************100%***********************]  1 of 1 completed\n"
     ]
    },
    {
     "data": {
      "text/html": [
       "<div>\n",
       "<style scoped>\n",
       "    .dataframe tbody tr th:only-of-type {\n",
       "        vertical-align: middle;\n",
       "    }\n",
       "\n",
       "    .dataframe tbody tr th {\n",
       "        vertical-align: top;\n",
       "    }\n",
       "\n",
       "    .dataframe thead th {\n",
       "        text-align: right;\n",
       "    }\n",
       "</style>\n",
       "<table border=\"1\" class=\"dataframe\">\n",
       "  <thead>\n",
       "    <tr style=\"text-align: right;\">\n",
       "      <th></th>\n",
       "      <th>Close</th>\n",
       "    </tr>\n",
       "    <tr>\n",
       "      <th>Date</th>\n",
       "      <th></th>\n",
       "    </tr>\n",
       "  </thead>\n",
       "  <tbody>\n",
       "    <tr>\n",
       "      <th>2014-09-17</th>\n",
       "      <td>457.33</td>\n",
       "    </tr>\n",
       "    <tr>\n",
       "      <th>2014-09-18</th>\n",
       "      <td>424.44</td>\n",
       "    </tr>\n",
       "    <tr>\n",
       "      <th>2014-09-19</th>\n",
       "      <td>394.80</td>\n",
       "    </tr>\n",
       "    <tr>\n",
       "      <th>2014-09-20</th>\n",
       "      <td>408.90</td>\n",
       "    </tr>\n",
       "    <tr>\n",
       "      <th>2014-09-21</th>\n",
       "      <td>398.82</td>\n",
       "    </tr>\n",
       "  </tbody>\n",
       "</table>\n",
       "</div>"
      ],
      "text/plain": [
       "             Close\n",
       "Date              \n",
       "2014-09-17  457.33\n",
       "2014-09-18  424.44\n",
       "2014-09-19  394.80\n",
       "2014-09-20  408.90\n",
       "2014-09-21  398.82"
      ]
     },
     "execution_count": 6,
     "metadata": {},
     "output_type": "execute_result"
    }
   ],
   "source": [
    "data = yf.download(\"BTC-USD\")[['Close']]\n",
    "data.index = pd.to_datetime(data.index)\n",
    "data.head().round(2)"
   ]
  },
  {
   "cell_type": "code",
   "execution_count": 7,
   "id": "e03e874a",
   "metadata": {},
   "outputs": [
    {
     "data": {
      "text/plain": [
       "(2752, 1)"
      ]
     },
     "execution_count": 7,
     "metadata": {},
     "output_type": "execute_result"
    }
   ],
   "source": [
    "data.shape"
   ]
  },
  {
   "cell_type": "code",
   "execution_count": 8,
   "id": "58bb9882",
   "metadata": {},
   "outputs": [
    {
     "data": {
      "text/html": [
       "<div>\n",
       "<style scoped>\n",
       "    .dataframe tbody tr th:only-of-type {\n",
       "        vertical-align: middle;\n",
       "    }\n",
       "\n",
       "    .dataframe tbody tr th {\n",
       "        vertical-align: top;\n",
       "    }\n",
       "\n",
       "    .dataframe thead th {\n",
       "        text-align: right;\n",
       "    }\n",
       "</style>\n",
       "<table border=\"1\" class=\"dataframe\">\n",
       "  <thead>\n",
       "    <tr style=\"text-align: right;\">\n",
       "      <th></th>\n",
       "      <th>Close</th>\n",
       "    </tr>\n",
       "    <tr>\n",
       "      <th>Date</th>\n",
       "      <th></th>\n",
       "    </tr>\n",
       "  </thead>\n",
       "  <tbody>\n",
       "    <tr>\n",
       "      <th>2022-03-26</th>\n",
       "      <td>44500.828125</td>\n",
       "    </tr>\n",
       "    <tr>\n",
       "      <th>2022-03-27</th>\n",
       "      <td>46820.492188</td>\n",
       "    </tr>\n",
       "    <tr>\n",
       "      <th>2022-03-28</th>\n",
       "      <td>47128.003906</td>\n",
       "    </tr>\n",
       "    <tr>\n",
       "      <th>2022-03-29</th>\n",
       "      <td>47465.730469</td>\n",
       "    </tr>\n",
       "    <tr>\n",
       "      <th>2022-03-30</th>\n",
       "      <td>47382.785156</td>\n",
       "    </tr>\n",
       "  </tbody>\n",
       "</table>\n",
       "</div>"
      ],
      "text/plain": [
       "                   Close\n",
       "Date                    \n",
       "2022-03-26  44500.828125\n",
       "2022-03-27  46820.492188\n",
       "2022-03-28  47128.003906\n",
       "2022-03-29  47465.730469\n",
       "2022-03-30  47382.785156"
      ]
     },
     "execution_count": 8,
     "metadata": {},
     "output_type": "execute_result"
    }
   ],
   "source": [
    "data.tail(5)"
   ]
  },
  {
   "cell_type": "code",
   "execution_count": 9,
   "id": "c76f485b",
   "metadata": {},
   "outputs": [
    {
     "data": {
      "image/png": "[encoded data removed]",
      "text/plain": [
       "<Figure size 720x504 with 1 Axes>"
      ]
     },
     "metadata": {
      "needs_background": "light"
     },
     "output_type": "display_data"
    }
   ],
   "source": [
    "plt.figure(figsize=(10, 7))\n",
    "plt.plot(data['Close'])\n",
    "plt.title('BTC', fontsize=14)\n",
    "plt.xlabel('Year', fontsize=12)\n",
    "plt.ylabel('Price', fontsize=12)\n",
    "plt.show()"
   ]
  },
  {
   "cell_type": "code",
   "execution_count": 10,
   "id": "44d35c27",
   "metadata": {},
   "outputs": [
    {
     "name": "stdout",
     "output_type": "stream",
     "text": [
      "ADF Test Statistic: -0.80\n",
      "5% Critical Value: -2.86\n",
      "p-value: 0.82\n"
     ]
    }
   ],
   "source": [
    "result = adfuller(data.Close)\n",
    "print('ADF Test Statistic: %.2f' % result[0])\n",
    "print('5%% Critical Value: %.2f' % result[4]['5%'])\n",
    "print('p-value: %.2f' % result[1])"
   ]
  },
  {
   "cell_type": "code",
   "execution_count": null,
   "id": "ca7d49f7",
   "metadata": {},
   "outputs": [],
   "source": [
    "# Time series is not stationary as seen in the plot and with p>0.05 of ADF test."
   ]
  },
  {
   "cell_type": "code",
   "execution_count": 11,
   "id": "0331c404",
   "metadata": {},
   "outputs": [
    {
     "data": {
      "image/png": "[encoded data removed]",
      "text/plain": [
       "<Figure size 432x288 with 1 Axes>"
      ]
     },
     "metadata": {
      "needs_background": "light"
     },
     "output_type": "display_data"
    }
   ],
   "source": [
    "plot_acf(data.Close)\n",
    "plt.show()"
   ]
  },
  {
   "cell_type": "code",
   "execution_count": 12,
   "id": "08de75c2",
   "metadata": {},
   "outputs": [
    {
     "data": {
      "image/png": "[encoded data removed]",
      "text/plain": [
       "<Figure size 720x720 with 4 Axes>"
      ]
     },
     "metadata": {
      "needs_background": "light"
     },
     "output_type": "display_data"
    }
   ],
   "source": [
    "decompose = seasonal_decompose(data['Close'], model='additive', extrapolate_trend='freq')\n",
    "plt.rcParams.update({'figure.figsize': (10,10)})\n",
    "decompose.plot()\n",
    "plt.show()"
   ]
  },
  {
   "cell_type": "code",
   "execution_count": null,
   "id": "1592d872",
   "metadata": {},
   "outputs": [],
   "source": [
    "# The time series show significant autocorrelation."
   ]
  },
  {
   "cell_type": "code",
   "execution_count": 13,
   "id": "93e3383d",
   "metadata": {},
   "outputs": [],
   "source": [
    "data_diff=pd.DataFrame((np.log(data.Close)).diff().dropna())"
   ]
  },
  {
   "cell_type": "code",
   "execution_count": 14,
   "id": "294fa40f",
   "metadata": {},
   "outputs": [
    {
     "data": {
      "text/html": [
       "<div>\n",
       "<style scoped>\n",
       "    .dataframe tbody tr th:only-of-type {\n",
       "        vertical-align: middle;\n",
       "    }\n",
       "\n",
       "    .dataframe tbody tr th {\n",
       "        vertical-align: top;\n",
       "    }\n",
       "\n",
       "    .dataframe thead th {\n",
       "        text-align: right;\n",
       "    }\n",
       "</style>\n",
       "<table border=\"1\" class=\"dataframe\">\n",
       "  <thead>\n",
       "    <tr style=\"text-align: right;\">\n",
       "      <th></th>\n",
       "      <th>Close</th>\n",
       "    </tr>\n",
       "    <tr>\n",
       "      <th>Date</th>\n",
       "      <th></th>\n",
       "    </tr>\n",
       "  </thead>\n",
       "  <tbody>\n",
       "    <tr>\n",
       "      <th>2014-09-18</th>\n",
       "      <td>-0.074643</td>\n",
       "    </tr>\n",
       "    <tr>\n",
       "      <th>2014-09-19</th>\n",
       "      <td>-0.072402</td>\n",
       "    </tr>\n",
       "    <tr>\n",
       "      <th>2014-09-20</th>\n",
       "      <td>0.035111</td>\n",
       "    </tr>\n",
       "    <tr>\n",
       "      <th>2014-09-21</th>\n",
       "      <td>-0.024968</td>\n",
       "    </tr>\n",
       "    <tr>\n",
       "      <th>2014-09-22</th>\n",
       "      <td>0.008317</td>\n",
       "    </tr>\n",
       "    <tr>\n",
       "      <th>...</th>\n",
       "      <td>...</td>\n",
       "    </tr>\n",
       "    <tr>\n",
       "      <th>2022-03-26</th>\n",
       "      <td>0.003424</td>\n",
       "    </tr>\n",
       "    <tr>\n",
       "      <th>2022-03-27</th>\n",
       "      <td>0.050813</td>\n",
       "    </tr>\n",
       "    <tr>\n",
       "      <th>2022-03-28</th>\n",
       "      <td>0.006546</td>\n",
       "    </tr>\n",
       "    <tr>\n",
       "      <th>2022-03-29</th>\n",
       "      <td>0.007141</td>\n",
       "    </tr>\n",
       "    <tr>\n",
       "      <th>2022-03-30</th>\n",
       "      <td>-0.001749</td>\n",
       "    </tr>\n",
       "  </tbody>\n",
       "</table>\n",
       "<p>2751 rows × 1 columns</p>\n",
       "</div>"
      ],
      "text/plain": [
       "               Close\n",
       "Date                \n",
       "2014-09-18 -0.074643\n",
       "2014-09-19 -0.072402\n",
       "2014-09-20  0.035111\n",
       "2014-09-21 -0.024968\n",
       "2014-09-22  0.008317\n",
       "...              ...\n",
       "2022-03-26  0.003424\n",
       "2022-03-27  0.050813\n",
       "2022-03-28  0.006546\n",
       "2022-03-29  0.007141\n",
       "2022-03-30 -0.001749\n",
       "\n",
       "[2751 rows x 1 columns]"
      ]
     },
     "execution_count": 14,
     "metadata": {},
     "output_type": "execute_result"
    }
   ],
   "source": [
    "data_diff"
   ]
  },
  {
   "cell_type": "code",
   "execution_count": 15,
   "id": "83137d33",
   "metadata": {},
   "outputs": [
    {
     "data": {
      "image/png": "[encoded data removed]",
      "text/plain": [
       "<Figure size 720x504 with 1 Axes>"
      ]
     },
     "metadata": {
      "needs_background": "light"
     },
     "output_type": "display_data"
    }
   ],
   "source": [
    "plt.figure(figsize=(10, 7))\n",
    "plt.plot(data_diff)\n",
    "plt.show()"
   ]
  },
  {
   "cell_type": "code",
   "execution_count": 16,
   "id": "ff2de494",
   "metadata": {},
   "outputs": [
    {
     "data": {
      "text/plain": [
       "(-15.801520432938503,\n",
       " 1.0726484453702587e-28,\n",
       " 9,\n",
       " 2741,\n",
       " {'1%': -3.4327379732269048,\n",
       "  '5%': -2.862595034666578,\n",
       "  '10%': -2.567331628897652},\n",
       " -9917.181614974736)"
      ]
     },
     "execution_count": 16,
     "metadata": {},
     "output_type": "execute_result"
    }
   ],
   "source": [
    "adfuller(data_diff, autolag='AIC')\n"
   ]
  },
  {
   "cell_type": "code",
   "execution_count": null,
   "id": "d2709cfc",
   "metadata": {},
   "outputs": [],
   "source": [
    "# After taking the log and differencing, now the p value is lower than 0.05, we reject the null \n",
    "# hypothesis so the time series is stationary."
   ]
  },
  {
   "cell_type": "code",
   "execution_count": 214,
   "id": "350da141",
   "metadata": {},
   "outputs": [
    {
     "data": {
      "image/png": "[encoded data removed]",
      "text/plain": [
       "<Figure size 720x720 with 4 Axes>"
      ]
     },
     "metadata": {
      "needs_background": "light"
     },
     "output_type": "display_data"
    }
   ],
   "source": [
    "decompose_diff =seasonal_decompose(data_diff['Close'], model='additive', extrapolate_trend='freq')\n",
    "plt.rcParams.update({'figure.figsize': (10,10)})\n",
    "decompose_diff.plot()\n",
    "plt.show()\n"
   ]
  },
  {
   "cell_type": "code",
   "execution_count": 17,
   "id": "df29936a",
   "metadata": {},
   "outputs": [
    {
     "name": "stdout",
     "output_type": "stream",
     "text": [
      "Performing stepwise search to minimize aic\n",
      " ARIMA(1,1,1)(0,0,0)[0] intercept   : AIC=inf, Time=1.63 sec\n",
      " ARIMA(0,1,0)(0,0,0)[0] intercept   : AIC=-8056.742, Time=0.30 sec\n",
      " ARIMA(1,1,0)(0,0,0)[0] intercept   : AIC=-8885.740, Time=0.60 sec\n",
      " ARIMA(0,1,1)(0,0,0)[0] intercept   : AIC=inf, Time=1.32 sec\n",
      " ARIMA(0,1,0)(0,0,0)[0]             : AIC=-8058.741, Time=0.31 sec\n",
      " ARIMA(2,1,0)(0,0,0)[0] intercept   : AIC=-9231.450, Time=0.32 sec\n",
      " ARIMA(3,1,0)(0,0,0)[0] intercept   : AIC=-9416.626, Time=0.39 sec\n",
      " ARIMA(4,1,0)(0,0,0)[0] intercept   : AIC=-9526.606, Time=0.35 sec\n",
      " ARIMA(5,1,0)(0,0,0)[0] intercept   : AIC=-9642.038, Time=1.92 sec\n",
      " ARIMA(5,1,1)(0,0,0)[0] intercept   : AIC=-9900.707, Time=3.07 sec\n",
      " ARIMA(4,1,1)(0,0,0)[0] intercept   : AIC=-9948.375, Time=3.89 sec\n",
      " ARIMA(3,1,1)(0,0,0)[0] intercept   : AIC=-9954.983, Time=2.29 sec\n",
      " ARIMA(2,1,1)(0,0,0)[0] intercept   : AIC=-9987.349, Time=2.34 sec\n",
      " ARIMA(2,1,2)(0,0,0)[0] intercept   : AIC=inf, Time=2.51 sec\n",
      " ARIMA(1,1,2)(0,0,0)[0] intercept   : AIC=-9969.911, Time=1.49 sec\n",
      " ARIMA(3,1,2)(0,0,0)[0] intercept   : AIC=-9951.373, Time=2.09 sec\n",
      " ARIMA(2,1,1)(0,0,0)[0]             : AIC=inf, Time=1.23 sec\n",
      "\n",
      "Best model:  ARIMA(2,1,1)(0,0,0)[0] intercept\n",
      "Total fit time: 26.071 seconds\n",
      "-9987.348654341353\n"
     ]
    }
   ],
   "source": [
    "from pmdarima import auto_arima\n",
    "stepwise_model = auto_arima(data_diff, start_p=1, start_q=1,\n",
    "                           d=1, trace=True,\n",
    "                           error_action='ignore',  \n",
    "                           suppress_warnings=True, seasonal=False, \n",
    "                           stepwise=True)\n",
    "print(stepwise_model.aic())"
   ]
  },
  {
   "cell_type": "code",
   "execution_count": 18,
   "id": "bdce7990",
   "metadata": {},
   "outputs": [],
   "source": [
    "from statsmodels.tsa.arima_model import ARIMA"
   ]
  },
  {
   "cell_type": "code",
   "execution_count": null,
   "id": "8fbe2882",
   "metadata": {},
   "outputs": [],
   "source": [
    "# First to see if my forecast fits the test, I'm splitting the data to train and test and running the tests on these."
   ]
  },
  {
   "cell_type": "code",
   "execution_count": 19,
   "id": "d22f3a48",
   "metadata": {},
   "outputs": [],
   "source": [
    "split = len(data_diff) - 10\n",
    "train, test = data_diff[0:split], data_diff[split:]"
   ]
  },
  {
   "cell_type": "code",
   "execution_count": 20,
   "id": "df076f9e",
   "metadata": {},
   "outputs": [
    {
     "name": "stderr",
     "output_type": "stream",
     "text": [
      " This problem is unconstrained.\n"
     ]
    },
    {
     "name": "stdout",
     "output_type": "stream",
     "text": [
      "RUNNING THE L-BFGS-B CODE\n",
      "\n",
      "           * * *\n",
      "\n",
      "Machine precision = 2.220D-16\n",
      " N =            4     M =           12\n",
      "\n",
      "At X0         0 variables are exactly at the bounds\n",
      "\n",
      "At iterate    0    f= -1.81677D+00    |proj g|=  1.32805D+01\n",
      "\n",
      "At iterate    5    f= -1.81682D+00    |proj g|=  1.54800D-01\n",
      "\n",
      "At iterate   10    f= -1.81682D+00    |proj g|=  2.46175D+00\n",
      "\n",
      "At iterate   15    f= -1.81695D+00    |proj g|=  1.71460D+01\n",
      "\n",
      "At iterate   20    f= -1.81709D+00    |proj g|=  1.46987D-02\n",
      "\n",
      "At iterate   25    f= -1.81709D+00    |proj g|=  2.99359D+00\n",
      "\n",
      "At iterate   30    f= -1.81756D+00    |proj g|=  3.02234D+01\n",
      "\n",
      "At iterate   35    f= -1.81839D+00    |proj g|=  2.03567D+00\n",
      "\n",
      "At iterate   40    f= -1.81839D+00    |proj g|=  1.07956D+00\n",
      "\n",
      "At iterate   45    f= -1.81841D+00    |proj g|=  1.61261D+01\n",
      "\n",
      "At iterate   50    f= -1.81878D+00    |proj g|=  2.87167D+01\n",
      "\n",
      "At iterate   55    f= -1.81888D+00    |proj g|=  1.08832D+01\n",
      "\n",
      "At iterate   60    f= -1.81889D+00    |proj g|=  8.38362D-02\n",
      "\n",
      "           * * *\n",
      "\n",
      "Tit   = total number of iterations\n",
      "Tnf   = total number of function evaluations\n",
      "Tnint = total number of segments explored during Cauchy searches\n",
      "Skip  = number of BFGS updates skipped\n",
      "Nact  = number of active bounds at final generalized Cauchy point\n",
      "Projg = norm of the final projected gradient\n",
      "F     = final function value\n",
      "\n",
      "           * * *\n",
      "\n",
      "   N    Tit     Tnf  Tnint  Skip  Nact     Projg        F\n",
      "    4     62     76      1     0     0   1.789D-02  -1.819D+00\n",
      "  F =  -1.8188928828695239     \n",
      "\n",
      "CONVERGENCE: REL_REDUCTION_OF_F_<=_FACTR*EPSMCH             \n",
      "                             ARIMA Model Results                              \n",
      "==============================================================================\n",
      "Dep. Variable:                D.Close   No. Observations:                 2740\n",
      "Model:                 ARIMA(2, 1, 1)   Log Likelihood                4983.766\n",
      "Method:                       css-mle   S.D. of innovations              0.039\n",
      "Date:                Wed, 30 Mar 2022   AIC                          -9957.533\n",
      "Time:                        20:54:02   BIC                          -9927.954\n",
      "Sample:                    09-19-2014   HQIC                         -9946.845\n",
      "                         - 03-20-2022                                         \n",
      "=================================================================================\n",
      "                    coef    std err          z      P>|z|      [0.025      0.975]\n",
      "---------------------------------------------------------------------------------\n",
      "const          7.452e-07    2.9e-06      0.257      0.797   -4.94e-06    6.43e-06\n",
      "ar.L1.D.Close    -0.0218      0.020     -1.115      0.265      -0.060       0.017\n",
      "ar.L2.D.Close    -0.0007      0.020     -0.037      0.970      -0.039       0.038\n",
      "ma.L1.D.Close    -0.9965      0.005   -221.252      0.000      -1.005      -0.988\n",
      "                                    Roots                                    \n",
      "=============================================================================\n",
      "                  Real          Imaginary           Modulus         Frequency\n",
      "-----------------------------------------------------------------------------\n",
      "AR.1          -14.9756          -33.9368j           37.0941           -0.3161\n",
      "AR.2          -14.9756          +33.9368j           37.0941            0.3161\n",
      "MA.1            1.0035           +0.0000j            1.0035            0.0000\n",
      "-----------------------------------------------------------------------------\n"
     ]
    }
   ],
   "source": [
    "model= ARIMA(train, order=(2, 1, 1)).fit()\n",
    "print(model.summary())"
   ]
  },
  {
   "cell_type": "code",
   "execution_count": 21,
   "id": "9dc8768c",
   "metadata": {},
   "outputs": [],
   "source": [
    "pred=model.predict(len(train), len(data_diff)-1)"
   ]
  },
  {
   "cell_type": "code",
   "execution_count": 22,
   "id": "2d7a166b",
   "metadata": {},
   "outputs": [
    {
     "data": {
      "text/plain": [
       "2022-03-21    2.412424e-02\n",
       "2022-03-22   -5.011918e-04\n",
       "2022-03-23   -5.860949e-06\n",
       "2022-03-24    1.253764e-06\n",
       "2022-03-25    7.389104e-07\n",
       "2022-03-26    7.449467e-07\n",
       "2022-03-27    7.451895e-07\n",
       "2022-03-28    7.451798e-07\n",
       "2022-03-29    7.451798e-07\n",
       "2022-03-30    7.451798e-07\n",
       "Freq: D, dtype: float64"
      ]
     },
     "execution_count": 22,
     "metadata": {},
     "output_type": "execute_result"
    }
   ],
   "source": [
    "pred"
   ]
  },
  {
   "cell_type": "code",
   "execution_count": 23,
   "id": "6a8749bc",
   "metadata": {},
   "outputs": [],
   "source": [
    "from statsmodels.tools.eval_measures import rmse"
   ]
  },
  {
   "cell_type": "code",
   "execution_count": 24,
   "id": "b55b7075",
   "metadata": {},
   "outputs": [
    {
     "data": {
      "text/plain": [
       "array([0.01902365, 0.02151946, 0.02119196, 0.02118731, 0.02118764,\n",
       "       0.02118764, 0.02118764, 0.02118764, 0.02118764, 0.02118764])"
      ]
     },
     "execution_count": 24,
     "metadata": {},
     "output_type": "execute_result"
    }
   ],
   "source": [
    "rmse(pred, test)"
   ]
  },
  {
   "cell_type": "code",
   "execution_count": null,
   "id": "2090712c",
   "metadata": {},
   "outputs": [],
   "source": [
    "# RMSE values are small so the model looks good. Now, let's model it on the entire dataset and predict for the next \n",
    "# 5 periods."
   ]
  },
  {
   "cell_type": "code",
   "execution_count": 25,
   "id": "a97fca28",
   "metadata": {},
   "outputs": [
    {
     "name": "stderr",
     "output_type": "stream",
     "text": [
      " This problem is unconstrained.\n"
     ]
    },
    {
     "name": "stdout",
     "output_type": "stream",
     "text": [
      "RUNNING THE L-BFGS-B CODE\n",
      "\n",
      "           * * *\n",
      "\n",
      "Machine precision = 2.220D-16\n",
      " N =            4     M =           12\n",
      "\n",
      "At X0         0 variables are exactly at the bounds\n",
      "\n",
      "At iterate    0    f= -1.81804D+00    |proj g|=  1.30439D+01\n",
      "\n",
      "At iterate    5    f= -1.81808D+00    |proj g|=  1.35781D-01\n",
      "\n",
      "At iterate   10    f= -1.81808D+00    |proj g|=  2.13955D+00\n",
      "\n",
      "At iterate   15    f= -1.81819D+00    |proj g|=  1.64853D+01\n",
      "\n",
      "At iterate   20    f= -1.81835D+00    |proj g|=  2.25738D-02\n",
      "\n",
      "At iterate   25    f= -1.81835D+00    |proj g|=  3.93128D-02\n",
      "\n",
      "At iterate   30    f= -1.81835D+00    |proj g|=  5.13048D-01\n",
      "\n",
      "At iterate   35    f= -1.81837D+00    |proj g|=  5.73099D+00\n",
      "\n",
      "At iterate   40    f= -1.81903D+00    |proj g|=  3.92525D+01\n",
      "\n",
      "At iterate   45    f= -1.81968D+00    |proj g|=  1.01096D-01\n",
      "\n",
      "At iterate   50    f= -1.81968D+00    |proj g|=  3.30685D-01\n",
      "\n",
      "At iterate   55    f= -1.81968D+00    |proj g|=  4.51631D+00\n",
      "\n",
      "At iterate   60    f= -1.81984D+00    |proj g|=  3.37915D+01\n",
      "\n",
      "At iterate   65    f= -1.82020D+00    |proj g|=  1.27088D+00\n",
      "\n",
      "At iterate   70    f= -1.82022D+00    |proj g|=  2.12113D+00\n",
      "\n",
      "At iterate   75    f= -1.82027D+00    |proj g|=  7.14205D+01\n",
      "\n",
      "At iterate   80    f= -1.82031D+00    |proj g|=  3.03905D+00\n",
      "  ys=-3.205E-08  -gs= 3.899E-08 BFGS update SKIPPED\n"
     ]
    },
    {
     "name": "stderr",
     "output_type": "stream",
     "text": [
      "\n",
      " Warning:  more than 10 function and gradient\n",
      "   evaluations in the last line search.  Termination\n",
      "   may possibly be caused by a bad search direction.\n"
     ]
    },
    {
     "name": "stdout",
     "output_type": "stream",
     "text": [
      "\n",
      "           * * *\n",
      "\n",
      "Tit   = total number of iterations\n",
      "Tnf   = total number of function evaluations\n",
      "Tnint = total number of segments explored during Cauchy searches\n",
      "Skip  = number of BFGS updates skipped\n",
      "Nact  = number of active bounds at final generalized Cauchy point\n",
      "Projg = norm of the final projected gradient\n",
      "F     = final function value\n",
      "\n",
      "           * * *\n",
      "\n",
      "   N    Tit     Tnf  Tnint  Skip  Nact     Projg        F\n",
      "    4     84    125      1     1     0   3.557D+00  -1.820D+00\n",
      "  F =  -1.8203095182193263     \n",
      "\n",
      "CONVERGENCE: REL_REDUCTION_OF_F_<=_FACTR*EPSMCH             \n",
      "                             ARIMA Model Results                              \n",
      "==============================================================================\n",
      "Dep. Variable:                D.Close   No. Observations:                 2750\n",
      "Model:                 ARIMA(2, 1, 1)   Log Likelihood                5005.851\n",
      "Method:                       css-mle   S.D. of innovations              0.039\n",
      "Date:                Wed, 30 Mar 2022   AIC                         -10001.702\n",
      "Time:                        20:54:54   BIC                          -9972.106\n",
      "Sample:                    09-19-2014   HQIC                         -9991.009\n",
      "                         - 03-30-2022                                         \n",
      "=================================================================================\n",
      "                    coef    std err          z      P>|z|      [0.025      0.975]\n",
      "---------------------------------------------------------------------------------\n",
      "const          3.654e-07   9.24e-07      0.395      0.693   -1.45e-06    2.18e-06\n",
      "ar.L1.D.Close    -0.0194      0.019     -1.014      0.310      -0.057       0.018\n",
      "ar.L2.D.Close     0.0014      0.019      0.074      0.941      -0.036       0.039\n",
      "ma.L1.D.Close    -0.9999      0.002   -665.456      0.000      -1.003      -0.997\n",
      "                                    Roots                                    \n",
      "=============================================================================\n",
      "                  Real          Imaginary           Modulus         Frequency\n",
      "-----------------------------------------------------------------------------\n",
      "AR.1          -20.6166           +0.0000j           20.6166            0.5000\n",
      "AR.2           34.3102           +0.0000j           34.3102            0.0000\n",
      "MA.1            1.0001           +0.0000j            1.0001            0.0000\n",
      "-----------------------------------------------------------------------------\n"
     ]
    }
   ],
   "source": [
    "model= ARIMA(data_diff, order=(2, 1, 1)).fit()\n",
    "print(model.summary())"
   ]
  },
  {
   "cell_type": "code",
   "execution_count": 26,
   "id": "41151fca",
   "metadata": {},
   "outputs": [],
   "source": [
    "forecast=model.predict(len(data_diff), len(data_diff)+4)"
   ]
  },
  {
   "cell_type": "code",
   "execution_count": 27,
   "id": "abd66c64",
   "metadata": {},
   "outputs": [
    {
     "data": {
      "text/plain": [
       "array([0.039208  , 0.03917866, 0.03917434, 0.03917467, 0.03917466])"
      ]
     },
     "execution_count": 27,
     "metadata": {},
     "output_type": "execute_result"
    }
   ],
   "source": [
    "rmse(data_diff, forecast)"
   ]
  },
  {
   "cell_type": "code",
   "execution_count": 29,
   "id": "5a50bf13",
   "metadata": {},
   "outputs": [],
   "source": [
    "forecast=pd.DataFrame(forecast)"
   ]
  },
  {
   "cell_type": "code",
   "execution_count": 58,
   "id": "9b8d2c4d",
   "metadata": {},
   "outputs": [
    {
     "data": {
      "text/html": [
       "<div>\n",
       "<style scoped>\n",
       "    .dataframe tbody tr th:only-of-type {\n",
       "        vertical-align: middle;\n",
       "    }\n",
       "\n",
       "    .dataframe tbody tr th {\n",
       "        vertical-align: top;\n",
       "    }\n",
       "\n",
       "    .dataframe thead th {\n",
       "        text-align: right;\n",
       "    }\n",
       "</style>\n",
       "<table border=\"1\" class=\"dataframe\">\n",
       "  <thead>\n",
       "    <tr style=\"text-align: right;\">\n",
       "      <th></th>\n",
       "      <th>Close</th>\n",
       "    </tr>\n",
       "    <tr>\n",
       "      <th>Date</th>\n",
       "      <th></th>\n",
       "    </tr>\n",
       "  </thead>\n",
       "  <tbody>\n",
       "    <tr>\n",
       "      <th>2014-09-17</th>\n",
       "      <td>6.125414</td>\n",
       "    </tr>\n",
       "    <tr>\n",
       "      <th>2014-09-18</th>\n",
       "      <td>6.050771</td>\n",
       "    </tr>\n",
       "    <tr>\n",
       "      <th>2014-09-19</th>\n",
       "      <td>5.978369</td>\n",
       "    </tr>\n",
       "    <tr>\n",
       "      <th>2014-09-20</th>\n",
       "      <td>6.013480</td>\n",
       "    </tr>\n",
       "    <tr>\n",
       "      <th>2014-09-21</th>\n",
       "      <td>5.988513</td>\n",
       "    </tr>\n",
       "    <tr>\n",
       "      <th>...</th>\n",
       "      <td>...</td>\n",
       "    </tr>\n",
       "    <tr>\n",
       "      <th>2022-03-26</th>\n",
       "      <td>10.703263</td>\n",
       "    </tr>\n",
       "    <tr>\n",
       "      <th>2022-03-27</th>\n",
       "      <td>10.754076</td>\n",
       "    </tr>\n",
       "    <tr>\n",
       "      <th>2022-03-28</th>\n",
       "      <td>10.760623</td>\n",
       "    </tr>\n",
       "    <tr>\n",
       "      <th>2022-03-29</th>\n",
       "      <td>10.767763</td>\n",
       "    </tr>\n",
       "    <tr>\n",
       "      <th>2022-03-30</th>\n",
       "      <td>10.766014</td>\n",
       "    </tr>\n",
       "  </tbody>\n",
       "</table>\n",
       "<p>2752 rows × 1 columns</p>\n",
       "</div>"
      ],
      "text/plain": [
       "                Close\n",
       "Date                 \n",
       "2014-09-17   6.125414\n",
       "2014-09-18   6.050771\n",
       "2014-09-19   5.978369\n",
       "2014-09-20   6.013480\n",
       "2014-09-21   5.988513\n",
       "...               ...\n",
       "2022-03-26  10.703263\n",
       "2022-03-27  10.754076\n",
       "2022-03-28  10.760623\n",
       "2022-03-29  10.767763\n",
       "2022-03-30  10.766014\n",
       "\n",
       "[2752 rows x 1 columns]"
      ]
     },
     "execution_count": 58,
     "metadata": {},
     "output_type": "execute_result"
    }
   ],
   "source": [
    "data_log=pd.DataFrame(np.log(data.Close))\n",
    "data_log"
   ]
  },
  {
   "cell_type": "code",
   "execution_count": 32,
   "id": "d4ed1b82",
   "metadata": {},
   "outputs": [
    {
     "data": {
      "text/html": [
       "<div>\n",
       "<style scoped>\n",
       "    .dataframe tbody tr th:only-of-type {\n",
       "        vertical-align: middle;\n",
       "    }\n",
       "\n",
       "    .dataframe tbody tr th {\n",
       "        vertical-align: top;\n",
       "    }\n",
       "\n",
       "    .dataframe thead th {\n",
       "        text-align: right;\n",
       "    }\n",
       "</style>\n",
       "<table border=\"1\" class=\"dataframe\">\n",
       "  <thead>\n",
       "    <tr style=\"text-align: right;\">\n",
       "      <th></th>\n",
       "      <th>0</th>\n",
       "    </tr>\n",
       "  </thead>\n",
       "  <tbody>\n",
       "    <tr>\n",
       "      <th>2022-03-31</th>\n",
       "      <td>4.022933e-03</td>\n",
       "    </tr>\n",
       "    <tr>\n",
       "      <th>2022-04-01</th>\n",
       "      <td>-9.007406e-05</td>\n",
       "    </tr>\n",
       "    <tr>\n",
       "      <th>2022-04-02</th>\n",
       "      <td>7.802914e-06</td>\n",
       "    </tr>\n",
       "    <tr>\n",
       "      <th>2022-04-03</th>\n",
       "      <td>9.355724e-08</td>\n",
       "    </tr>\n",
       "    <tr>\n",
       "      <th>2022-04-04</th>\n",
       "      <td>3.811697e-07</td>\n",
       "    </tr>\n",
       "  </tbody>\n",
       "</table>\n",
       "</div>"
      ],
      "text/plain": [
       "                       0\n",
       "2022-03-31  4.022933e-03\n",
       "2022-04-01 -9.007406e-05\n",
       "2022-04-02  7.802914e-06\n",
       "2022-04-03  9.355724e-08\n",
       "2022-04-04  3.811697e-07"
      ]
     },
     "execution_count": 32,
     "metadata": {},
     "output_type": "execute_result"
    }
   ],
   "source": [
    "forecast"
   ]
  },
  {
   "cell_type": "code",
   "execution_count": 59,
   "id": "41a5dcf1",
   "metadata": {},
   "outputs": [
    {
     "data": {
      "text/html": [
       "<div>\n",
       "<style scoped>\n",
       "    .dataframe tbody tr th:only-of-type {\n",
       "        vertical-align: middle;\n",
       "    }\n",
       "\n",
       "    .dataframe tbody tr th {\n",
       "        vertical-align: top;\n",
       "    }\n",
       "\n",
       "    .dataframe thead th {\n",
       "        text-align: right;\n",
       "    }\n",
       "</style>\n",
       "<table border=\"1\" class=\"dataframe\">\n",
       "  <thead>\n",
       "    <tr style=\"text-align: right;\">\n",
       "      <th></th>\n",
       "      <th>Close</th>\n",
       "    </tr>\n",
       "    <tr>\n",
       "      <th>Date</th>\n",
       "      <th></th>\n",
       "    </tr>\n",
       "  </thead>\n",
       "  <tbody>\n",
       "    <tr>\n",
       "      <th>2022-03-30</th>\n",
       "      <td>10.766014</td>\n",
       "    </tr>\n",
       "  </tbody>\n",
       "</table>\n",
       "</div>"
      ],
      "text/plain": [
       "                Close\n",
       "Date                 \n",
       "2022-03-30  10.766014"
      ]
     },
     "execution_count": 59,
     "metadata": {},
     "output_type": "execute_result"
    }
   ],
   "source": [
    "data_log.tail(1)"
   ]
  },
  {
   "cell_type": "code",
   "execution_count": 53,
   "id": "789d5b8d",
   "metadata": {},
   "outputs": [
    {
     "data": {
      "text/plain": [
       "array([ 4.02293275e-03, -9.00740595e-05,  7.80291402e-06,  9.35572382e-08,\n",
       "        3.81169658e-07])"
      ]
     },
     "execution_count": 53,
     "metadata": {},
     "output_type": "execute_result"
    }
   ],
   "source": [
    "add=np.array(forecast[0])\n",
    "add"
   ]
  },
  {
   "cell_type": "code",
   "execution_count": 60,
   "id": "8320b837",
   "metadata": {},
   "outputs": [
    {
     "name": "stdout",
     "output_type": "stream",
     "text": [
      "                Close\n",
      "Date                 \n",
      "2022-03-30  10.770037\n",
      "2022-03-30  10.769947\n",
      "2022-03-30  10.769955\n",
      "2022-03-30  10.769955\n",
      "2022-03-30  10.769955\n"
     ]
    }
   ],
   "source": [
    "for i in add:\n",
    "    new_data=data_log.tail(1)+i\n",
    "    data_log=data_log.append(new_data)\n",
    "print(data_log.tail(5))"
   ]
  },
  {
   "cell_type": "code",
   "execution_count": 81,
   "id": "a9146230",
   "metadata": {},
   "outputs": [],
   "source": [
    "dates= pd.date_range('2014-09-17', '2022-04-04', freq='d')"
   ]
  },
  {
   "cell_type": "code",
   "execution_count": 82,
   "id": "e2e4033f",
   "metadata": {},
   "outputs": [],
   "source": [
    "data_log['Date']=dates"
   ]
  },
  {
   "cell_type": "code",
   "execution_count": 83,
   "id": "17cf9cc8",
   "metadata": {},
   "outputs": [],
   "source": [
    "data_log.reset_index(drop=True, inplace=True)"
   ]
  },
  {
   "cell_type": "code",
   "execution_count": 84,
   "id": "aa274bed",
   "metadata": {},
   "outputs": [],
   "source": [
    "data_log.set_index('Date', inplace=True)"
   ]
  },
  {
   "cell_type": "code",
   "execution_count": 86,
   "id": "d8383e2e",
   "metadata": {},
   "outputs": [
    {
     "data": {
      "text/html": [
       "<div>\n",
       "<style scoped>\n",
       "    .dataframe tbody tr th:only-of-type {\n",
       "        vertical-align: middle;\n",
       "    }\n",
       "\n",
       "    .dataframe tbody tr th {\n",
       "        vertical-align: top;\n",
       "    }\n",
       "\n",
       "    .dataframe thead th {\n",
       "        text-align: right;\n",
       "    }\n",
       "</style>\n",
       "<table border=\"1\" class=\"dataframe\">\n",
       "  <thead>\n",
       "    <tr style=\"text-align: right;\">\n",
       "      <th></th>\n",
       "      <th>Close</th>\n",
       "    </tr>\n",
       "    <tr>\n",
       "      <th>Date</th>\n",
       "      <th></th>\n",
       "    </tr>\n",
       "  </thead>\n",
       "  <tbody>\n",
       "    <tr>\n",
       "      <th>2022-03-31</th>\n",
       "      <td>10.770037</td>\n",
       "    </tr>\n",
       "    <tr>\n",
       "      <th>2022-04-01</th>\n",
       "      <td>10.769947</td>\n",
       "    </tr>\n",
       "    <tr>\n",
       "      <th>2022-04-02</th>\n",
       "      <td>10.769955</td>\n",
       "    </tr>\n",
       "    <tr>\n",
       "      <th>2022-04-03</th>\n",
       "      <td>10.769955</td>\n",
       "    </tr>\n",
       "    <tr>\n",
       "      <th>2022-04-04</th>\n",
       "      <td>10.769955</td>\n",
       "    </tr>\n",
       "  </tbody>\n",
       "</table>\n",
       "</div>"
      ],
      "text/plain": [
       "                Close\n",
       "Date                 \n",
       "2022-03-31  10.770037\n",
       "2022-04-01  10.769947\n",
       "2022-04-02  10.769955\n",
       "2022-04-03  10.769955\n",
       "2022-04-04  10.769955"
      ]
     },
     "execution_count": 86,
     "metadata": {},
     "output_type": "execute_result"
    }
   ],
   "source": [
    "data_log.tail(5)"
   ]
  },
  {
   "cell_type": "code",
   "execution_count": 87,
   "id": "0c65a9a2",
   "metadata": {},
   "outputs": [],
   "source": [
    "data_prediction=np.exp(data_log)\n"
   ]
  },
  {
   "cell_type": "code",
   "execution_count": 88,
   "id": "81f1e3e2",
   "metadata": {},
   "outputs": [
    {
     "data": {
      "text/html": [
       "<div>\n",
       "<style scoped>\n",
       "    .dataframe tbody tr th:only-of-type {\n",
       "        vertical-align: middle;\n",
       "    }\n",
       "\n",
       "    .dataframe tbody tr th {\n",
       "        vertical-align: top;\n",
       "    }\n",
       "\n",
       "    .dataframe thead th {\n",
       "        text-align: right;\n",
       "    }\n",
       "</style>\n",
       "<table border=\"1\" class=\"dataframe\">\n",
       "  <thead>\n",
       "    <tr style=\"text-align: right;\">\n",
       "      <th></th>\n",
       "      <th>Close</th>\n",
       "    </tr>\n",
       "    <tr>\n",
       "      <th>Date</th>\n",
       "      <th></th>\n",
       "    </tr>\n",
       "  </thead>\n",
       "  <tbody>\n",
       "    <tr>\n",
       "      <th>2022-03-26</th>\n",
       "      <td>44500.828125</td>\n",
       "    </tr>\n",
       "    <tr>\n",
       "      <th>2022-03-27</th>\n",
       "      <td>46820.492188</td>\n",
       "    </tr>\n",
       "    <tr>\n",
       "      <th>2022-03-28</th>\n",
       "      <td>47128.003906</td>\n",
       "    </tr>\n",
       "    <tr>\n",
       "      <th>2022-03-29</th>\n",
       "      <td>47465.730469</td>\n",
       "    </tr>\n",
       "    <tr>\n",
       "      <th>2022-03-30</th>\n",
       "      <td>47382.785156</td>\n",
       "    </tr>\n",
       "    <tr>\n",
       "      <th>2022-03-31</th>\n",
       "      <td>47573.786850</td>\n",
       "    </tr>\n",
       "    <tr>\n",
       "      <th>2022-04-01</th>\n",
       "      <td>47569.501879</td>\n",
       "    </tr>\n",
       "    <tr>\n",
       "      <th>2022-04-02</th>\n",
       "      <td>47569.873061</td>\n",
       "    </tr>\n",
       "    <tr>\n",
       "      <th>2022-04-03</th>\n",
       "      <td>47569.877512</td>\n",
       "    </tr>\n",
       "    <tr>\n",
       "      <th>2022-04-04</th>\n",
       "      <td>47569.895644</td>\n",
       "    </tr>\n",
       "  </tbody>\n",
       "</table>\n",
       "</div>"
      ],
      "text/plain": [
       "                   Close\n",
       "Date                    \n",
       "2022-03-26  44500.828125\n",
       "2022-03-27  46820.492188\n",
       "2022-03-28  47128.003906\n",
       "2022-03-29  47465.730469\n",
       "2022-03-30  47382.785156\n",
       "2022-03-31  47573.786850\n",
       "2022-04-01  47569.501879\n",
       "2022-04-02  47569.873061\n",
       "2022-04-03  47569.877512\n",
       "2022-04-04  47569.895644"
      ]
     },
     "execution_count": 88,
     "metadata": {},
     "output_type": "execute_result"
    }
   ],
   "source": [
    "data_prediction.tail(10)"
   ]
  },
  {
   "cell_type": "code",
   "execution_count": null,
   "id": "3d68e1af",
   "metadata": {},
   "outputs": [],
   "source": [
    "# I recommend to buy BTC because the forecast for the next 5 days looks like it is increasing."
   ]
  }
 ],
 "metadata": {
  "kernelspec": {
   "display_name": "Python 3 (ipykernel)",
   "language": "python",
   "name": "python3"
  },
  "language_info": {
   "codemirror_mode": {
    "name": "ipython",
    "version": 3
   },
   "file_extension": ".py",
   "mimetype": "text/x-python",
   "name": "python",
   "nbconvert_exporter": "python",
   "pygments_lexer": "ipython3",
   "version": "3.9.7"
  }
 },
 "nbformat": 4,
 "nbformat_minor": 5
}
