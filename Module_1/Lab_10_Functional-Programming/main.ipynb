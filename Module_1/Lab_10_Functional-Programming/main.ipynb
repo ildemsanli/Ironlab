{
 "cells": [
  {
   "cell_type": "code",
   "execution_count": null,
   "id": "326f1ca0",
   "metadata": {},
   "outputs": [],
   "source": [
    "#[Counting Sheeps] (https://www.codewars.com/kata/54edbc7200b811e956000556)"
   ]
  },
  {
   "cell_type": "code",
   "execution_count": 2,
   "id": "361dec16",
   "metadata": {},
   "outputs": [],
   "source": [
    "arr=[True,  True,  True,  False,\n",
    "  True, True,  True,  True ,\n",
    "  True,  False, True,  False,\n",
    "  True,  False, False, True ,\n",
    "  True,  True,  True,  True ,\n",
    "  False, False, True,  True]"
   ]
  },
  {
   "cell_type": "code",
   "execution_count": 15,
   "id": "ce578a39",
   "metadata": {},
   "outputs": [
    {
     "name": "stdout",
     "output_type": "stream",
     "text": [
      "17\n"
     ]
    }
   ],
   "source": [
    "def counting_sheeps(x):\n",
    "    n=0\n",
    "    for i in x:\n",
    "        if i==True:\n",
    "            n+=1\n",
    "    print (n)\n",
    "counting_sheeps(arr)"
   ]
  },
  {
   "cell_type": "code",
   "execution_count": null,
   "id": "6937faef",
   "metadata": {},
   "outputs": [],
   "source": [
    "#[Removing elements] (https://www.codewars.com/kata/5769b3802ae6f8e4890009d2)"
   ]
  },
  {
   "cell_type": "code",
   "execution_count": 16,
   "id": "e549fe96",
   "metadata": {},
   "outputs": [],
   "source": [
    "my_list=[\"Keep\", \"Remove\", \"Keep\", \"Remove\", \"Keep\"]"
   ]
  },
  {
   "cell_type": "code",
   "execution_count": 19,
   "id": "bd9d331a",
   "metadata": {},
   "outputs": [
    {
     "data": {
      "text/plain": [
       "['Keep', 'Keep', 'Keep']"
      ]
     },
     "execution_count": 19,
     "metadata": {},
     "output_type": "execute_result"
    }
   ],
   "source": [
    "def remove_every_other(my_list):\n",
    "    new_list=[i for i in my_list if my_list.index(i)==0 or my_list.index(i)%2==0]\n",
    "    return new_list\n",
    "remove_every_other(my_list)"
   ]
  },
  {
   "cell_type": "code",
   "execution_count": null,
   "id": "759247ba",
   "metadata": {},
   "outputs": [],
   "source": [
    "#[Convert number to reversed array of digits] (https://www.codewars.com/kata/5583090cbe83f4fd8c000051)"
   ]
  },
  {
   "cell_type": "code",
   "execution_count": 51,
   "id": "dbdec38e",
   "metadata": {},
   "outputs": [
    {
     "data": {
      "text/plain": [
       "[1, 3, 2, 5, 3]"
      ]
     },
     "execution_count": 51,
     "metadata": {},
     "output_type": "execute_result"
    }
   ],
   "source": [
    "def digitize(n):\n",
    "    x=[digit for digit in str(n)]\n",
    "    y=[int(i) for i in x]\n",
    "    y.reverse()\n",
    "    return y\n",
    "digitize(35231)"
   ]
  },
  {
   "cell_type": "code",
   "execution_count": null,
   "id": "f93d5c9e",
   "metadata": {},
   "outputs": [],
   "source": [
    "#[Square every digit] (https://www.codewars.com/kata/546e2562b03326a88e000020)"
   ]
  },
  {
   "cell_type": "code",
   "execution_count": 61,
   "id": "8efea1e6",
   "metadata": {},
   "outputs": [
    {
     "data": {
      "text/plain": [
       "811181"
      ]
     },
     "execution_count": 61,
     "metadata": {},
     "output_type": "execute_result"
    }
   ],
   "source": [
    "def square_digits(num):\n",
    "    x=[digit for digit in str(num)]\n",
    "    y=''.join([str(int(i)**2) for i in x])\n",
    "    return int(y)\n",
    "square_digits(9119)"
   ]
  },
  {
   "cell_type": "code",
   "execution_count": null,
   "id": "a816dcec",
   "metadata": {},
   "outputs": [],
   "source": [
    "#[Counting Total Occurence Of Specific Digits](https://www.codewars.com/kata/56311e4fdd811616810000ce)"
   ]
  },
  {
   "cell_type": "code",
   "execution_count": 91,
   "id": "a0724f9c",
   "metadata": {},
   "outputs": [
    {
     "data": {
      "text/plain": [
       "[(6, 1), (7, 1), (1, 0), (5, 1)]"
      ]
     },
     "execution_count": 91,
     "metadata": {},
     "output_type": "execute_result"
    }
   ],
   "source": [
    "def count_spec_digits(integers_list, digits_list):\n",
    "    x = [int(a) for i in integers_list for a in str(i)]\n",
    "    l=[]\n",
    "    for i in digits_list:\n",
    "        count=0\n",
    "        if i in x:\n",
    "            count+=1\n",
    "        l.append((i, count))\n",
    "    return l\n",
    "count_spec_digits([5, 67, 79, 76], [6, 7, 1, 5])"
   ]
  }
 ],
 "metadata": {
  "kernelspec": {
   "display_name": "Python 3 (ipykernel)",
   "language": "python",
   "name": "python3"
  },
  "language_info": {
   "codemirror_mode": {
    "name": "ipython",
    "version": 3
   },
   "file_extension": ".py",
   "mimetype": "text/x-python",
   "name": "python",
   "nbconvert_exporter": "python",
   "pygments_lexer": "ipython3",
   "version": "3.9.7"
  }
 },
 "nbformat": 4,
 "nbformat_minor": 5
}
