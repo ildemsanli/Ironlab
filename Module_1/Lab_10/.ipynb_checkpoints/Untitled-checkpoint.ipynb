{
 "cells": [
  {
   "cell_type": "code",
   "execution_count": null,
   "id": "6aac7f63",
   "metadata": {},
   "outputs": [],
   "source": [
    "#l = List()\n",
    "\n",
    "#integer_list =  [1, 1, 2 ,3 ,1 ,2 ,3 ,4]\n",
    "#values_list = [1, 3]\n",
    "#l.remove_(integer_list, values_list) == [2, 2, 4]\n",
    "\n",
    "#integer_list = [1, 1, 2 ,3 ,1 ,2 ,3 ,4, 4, 3 ,5, 6, 7, 2, 8]\n",
    "#lst = [1, 3, 4, 2]\n",
    "#l.remove_(integer_list, values_list) == [5, 6 ,7 ,8]\n",
    "\n",
    "#integer_list = [8, 2, 7, 2, 3, 4, 6, 5, 4, 4, 1, 2 , 3]\n",
    "#lst = [2, 4, 3]\n",
    "#l.remove_(integer_list, values_list) == [8, 7, 6, 5, 1]"
   ]
  },
  {
   "cell_type": "code",
   "execution_count": 2,
   "id": "8eda1b20",
   "metadata": {},
   "outputs": [],
   "source": [
    "def remove(integer_list, values_list): \n",
    "    \n",
    "    final_list=[]\n",
    "    \n",
    "    for i in integer_list:\n",
    "        if i not in values_list:\n",
    "            final_list.append(i)\n",
    "        else:\n",
    "            continue\n",
    "        \n",
    "    print (final_list)"
   ]
  },
  {
   "cell_type": "code",
   "execution_count": 3,
   "id": "0a816a63",
   "metadata": {},
   "outputs": [
    {
     "name": "stdout",
     "output_type": "stream",
     "text": [
      "[2, 2, 4]\n"
     ]
    }
   ],
   "source": [
    "remove([1, 1, 2 ,3 ,1 ,2 ,3 ,4], [1, 3])"
   ]
  },
  {
   "cell_type": "code",
   "execution_count": 4,
   "id": "60251a3a",
   "metadata": {},
   "outputs": [
    {
     "name": "stdout",
     "output_type": "stream",
     "text": [
      "[5, 6, 7, 8]\n"
     ]
    }
   ],
   "source": [
    "remove([1, 1, 2 ,3 ,1 ,2 ,3 ,4, 4, 3 ,5, 6, 7, 2, 8], [1, 3, 4, 2])"
   ]
  },
  {
   "cell_type": "code",
   "execution_count": 5,
   "id": "8f434c32",
   "metadata": {},
   "outputs": [
    {
     "name": "stdout",
     "output_type": "stream",
     "text": [
      "[8, 7, 6, 5, 1]\n"
     ]
    }
   ],
   "source": [
    "remove([8, 2, 7, 2, 3, 4, 6, 5, 4, 4, 1, 2 , 3], [2, 4, 3])"
   ]
  },
  {
   "cell_type": "code",
   "execution_count": null,
   "id": "8d526f5e",
   "metadata": {},
   "outputs": [],
   "source": [
    "#integers_list =  [1, 1, 2 ,3 ,1 ,2 ,3 ,4]\n",
    "#digits_list = [1, 3]\n",
    "#l.count_spec_digits(integers_list, digits_list) == [(1, 3), (3, 2)]"
   ]
  },
  {
   "cell_type": "code",
   "execution_count": 7,
   "id": "b13b69ce",
   "metadata": {},
   "outputs": [
    {
     "name": "stdout",
     "output_type": "stream",
     "text": [
      "[(1, 3), (3, 2)]\n"
     ]
    }
   ],
   "source": [
    "integers_list = [1, 1, 2 ,3 ,1 ,2 ,3 ,4]\n",
    "digits_list=[1, 3]\n",
    "\n",
    "def count_spec_digits():\n",
    "    \n",
    "    \n",
    "\n",
    "    import collections \n",
    "\n",
    "\n",
    "    dict_counts=collections.Counter(integers_list)\n",
    "    my_dict={}\n",
    "    my_list=[]\n",
    "    final_list=[]   \n",
    "    \n",
    "    for (i,j) in dict_counts.items():\n",
    "        if i in digits_list:\n",
    "            my_dict={i:j}\n",
    "            \n",
    "            my_list=list(my_dict.items())\n",
    "            my_list=my_list[0]\n",
    "            final_list.append(my_list)\n",
    "    print(final_list)\n",
    "\n",
    "count_spec_digits()"
   ]
  },
  {
   "cell_type": "code",
   "execution_count": 8,
   "id": "5e61293d",
   "metadata": {},
   "outputs": [],
   "source": [
    "#ordered_count(\"abracadabra\") == [('a', 5), ('b', 2), ('r', 2), ('c', 1), ('d', 1)]"
   ]
  },
  {
   "cell_type": "code",
   "execution_count": 12,
   "id": "b544dfa3",
   "metadata": {},
   "outputs": [
    {
     "name": "stdout",
     "output_type": "stream",
     "text": [
      "[('a', 5), ('b', 2), ('r', 2), ('c', 1), ('d', 1)]\n"
     ]
    }
   ],
   "source": [
    "words=list('abracadabra')\n",
    "\n",
    "import collections\n",
    "char_freq=dict(collections.Counter(words))\n",
    "my_list=list(char_freq.items())\n",
    "print(my_list)"
   ]
  }
 ],
 "metadata": {
  "kernelspec": {
   "display_name": "Python 3 (ipykernel)",
   "language": "python",
   "name": "python3"
  },
  "language_info": {
   "codemirror_mode": {
    "name": "ipython",
    "version": 3
   },
   "file_extension": ".py",
   "mimetype": "text/x-python",
   "name": "python",
   "nbconvert_exporter": "python",
   "pygments_lexer": "ipython3",
   "version": "3.9.7"
  }
 },
 "nbformat": 4,
 "nbformat_minor": 5
}
